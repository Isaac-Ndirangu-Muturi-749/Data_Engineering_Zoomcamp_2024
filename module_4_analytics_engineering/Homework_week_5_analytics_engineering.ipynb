{
 "cells": [
  {
   "cell_type": "markdown",
   "metadata": {},
   "source": [
    "- Name: Isaac Ndirangu Muturi\n",
    "- Email: ndirangumuturi749@gmail.com"
   ]
  },
  {
   "cell_type": "markdown",
   "metadata": {},
   "source": [
    "## Module 4 Homework \n",
    "\n",
    "In this homework, we'll use the models developed during the week 4 videos and enhance the already presented dbt project using the already loaded Taxi data for fhv vehicles for year 2019 in our DWH.\n",
    "\n",
    "This means that in this homework we use the following data [Datasets list](https://github.com/DataTalksClub/nyc-tlc-data/)\n",
    "* Yellow taxi data - Years 2019 and 2020\n",
    "* Green taxi data - Years 2019 and 2020 \n",
    "* fhv data - Year 2019. \n",
    "\n",
    "We will use the data loaded for:\n",
    "\n",
    "* Building a source table: `stg_fhv_tripdata`\n",
    "* Building a fact table: `fact_fhv_trips`\n",
    "* Create a dashboard"
   ]
  },
  {
   "cell_type": "markdown",
   "metadata": {},
   "source": [
    "### Question 1: \n",
    "\n",
    "**What happens when we execute dbt build --vars '{'is_test_run':'true'}'**\n",
    "You'll need to have completed the [\"Build the first dbt models\"](https://www.youtube.com/watch?v=UVI30Vxzd6c) video. \n",
    "- It's the same as running *dbt build*\n",
    "- It applies a _limit 100_ to all of our models\n",
    "- It applies a _limit 100_ only to our staging models\n",
    "- Nothing"
   ]
  },
  {
   "cell_type": "code",
   "execution_count": null,
   "metadata": {
    "vscode": {
     "languageId": "plaintext"
    }
   },
   "outputs": [],
   "source": [
    "# It applies a _limit 100_ only to our staging models\n"
   ]
  },
  {
   "cell_type": "markdown",
   "metadata": {},
   "source": [
    "### Question 2: \n",
    "\n",
    "**What is the code that our CI job will run? Where is this code coming from?**  \n",
    "\n",
    "- The code that has been merged into the main branch\n",
    "- The code that is behind the creation object on the dbt_cloud_pr_ schema\n",
    "- The code from any development branch that has been opened based on main\n",
    "- The code from the development branch we are requesting to merge to main"
   ]
  },
  {
   "cell_type": "code",
   "execution_count": null,
   "metadata": {
    "vscode": {
     "languageId": "plaintext"
    }
   },
   "outputs": [],
   "source": [
    "# The code from the development branch we are requesting to merge to main"
   ]
  },
  {
   "cell_type": "markdown",
   "metadata": {},
   "source": [
    "### Question 3 (2 points)\n",
    "\n",
    "**What is the count of records in the model fact_fhv_trips after running all dependencies with the test run variable disabled (:false)?**  \n",
    "Create a staging model for the fhv data, similar to the ones made for yellow and green data. Add an additional filter for keeping only records with pickup time in year 2019.\n",
    "Do not add a deduplication step. Run this models without limits (is_test_run: false).\n",
    "\n",
    "Create a core model similar to fact trips, but selecting from stg_fhv_tripdata and joining with dim_zones.\n",
    "Similar to what we've done in fact_trips, keep only records with known pickup and dropoff locations entries for pickup and dropoff locations. \n",
    "Run the dbt model without limits (is_test_run: false).\n",
    "\n",
    "- 12998722\n",
    "- 22998722\n",
    "- 32998722\n",
    "- 42998722"
   ]
  },
  {
   "cell_type": "code",
   "execution_count": null,
   "metadata": {
    "vscode": {
     "languageId": "plaintext"
    }
   },
   "outputs": [],
   "source": [
    "SELECT count(1) FROM `direct-disk-412820.dbt_indirangumuturi.fact_fhv_trips`\n",
    "\n",
    "# 22998722"
   ]
  },
  {
   "cell_type": "markdown",
   "metadata": {},
   "source": [
    "### Question 4 (2 points)\n",
    "\n",
    "**What is the service that had the most rides during the month of July 2019 month with the biggest amount of rides after building a tile for the fact_fhv_trips table?**\n",
    "\n",
    "Create a dashboard with some tiles that you find interesting to explore the data. One tile should show the amount of trips per month, as done in the videos for fact_trips, including the fact_fhv_trips data.\n",
    "\n",
    "- FHV\n",
    "- Green\n",
    "- Yellow\n",
    "- FHV and Green"
   ]
  },
  {
   "cell_type": "code",
   "execution_count": null,
   "metadata": {
    "vscode": {
     "languageId": "plaintext"
    }
   },
   "outputs": [],
   "source": [
    "# Yellow"
   ]
  }
 ],
 "metadata": {
  "language_info": {
   "name": "python"
  }
 },
 "nbformat": 4,
 "nbformat_minor": 2
}
