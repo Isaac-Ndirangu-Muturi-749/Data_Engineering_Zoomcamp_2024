{
 "cells": [
  {
   "cell_type": "code",
   "execution_count": 2,
   "id": "8c1d0c08",
   "metadata": {},
   "outputs": [],
   "source": [
    "import pyspark\n",
    "from pyspark.sql import SparkSession"
   ]
  },
  {
   "cell_type": "code",
   "execution_count": 3,
   "id": "96a248f5",
   "metadata": {},
   "outputs": [
    {
     "name": "stderr",
     "output_type": "stream",
     "text": [
      "Setting default log level to \"WARN\".\n",
      "To adjust logging level use sc.setLogLevel(newLevel). For SparkR, use setLogLevel(newLevel).\n"
     ]
    },
    {
     "name": "stdout",
     "output_type": "stream",
     "text": [
      "24/02/29 07:26:20 WARN NativeCodeLoader: Unable to load native-hadoop library for your platform... using builtin-java classes where applicable\n"
     ]
    }
   ],
   "source": [
    "spark = SparkSession.builder \\\n",
    "    .master(\"local[*]\") \\\n",
    "    .appName('test') \\\n",
    "    .getOrCreate()"
   ]
  },
  {
   "cell_type": "code",
   "execution_count": 4,
   "id": "c53274b1",
   "metadata": {},
   "outputs": [],
   "source": [
    "import pandas as pd"
   ]
  },
  {
   "cell_type": "code",
   "execution_count": 7,
   "id": "9fcc6fa6-c2af-44e2-a2d5-07f3875123d8",
   "metadata": {},
   "outputs": [
    {
     "name": "stdout",
     "output_type": "stream",
     "text": [
      "/home/ndirangu749/Data_Engineering_Zoomcamp_2024/module_5_batch_processing/notebooks\n"
     ]
    }
   ],
   "source": [
    "!pwd"
   ]
  },
  {
   "cell_type": "code",
   "execution_count": 8,
   "id": "871236e7-28ec-41ca-a280-af00512fa499",
   "metadata": {},
   "outputs": [],
   "source": [
    "df_yellow = spark.read \\\n",
    "    .option(\"header\", \"true\") \\\n",
    "    .csv('../data/raw/yellow/2021/01/')\n"
   ]
  },
  {
   "cell_type": "code",
   "execution_count": 11,
   "id": "e9b3b7fc-16ce-4576-be59-8792d80693de",
   "metadata": {},
   "outputs": [
    {
     "name": "stdout",
     "output_type": "stream",
     "text": [
      "root\n",
      " |-- VendorID: string (nullable = true)\n",
      " |-- lpep_pickup_datetime: string (nullable = true)\n",
      " |-- lpep_dropoff_datetime: string (nullable = true)\n",
      " |-- store_and_fwd_flag: string (nullable = true)\n",
      " |-- RatecodeID: string (nullable = true)\n",
      " |-- PULocationID: string (nullable = true)\n",
      " |-- DOLocationID: string (nullable = true)\n",
      " |-- passenger_count: string (nullable = true)\n",
      " |-- trip_distance: string (nullable = true)\n",
      " |-- fare_amount: string (nullable = true)\n",
      " |-- extra: string (nullable = true)\n",
      " |-- mta_tax: string (nullable = true)\n",
      " |-- tip_amount: string (nullable = true)\n",
      " |-- tolls_amount: string (nullable = true)\n",
      " |-- ehail_fee: string (nullable = true)\n",
      " |-- improvement_surcharge: string (nullable = true)\n",
      " |-- total_amount: string (nullable = true)\n",
      " |-- payment_type: string (nullable = true)\n",
      " |-- trip_type: string (nullable = true)\n",
      " |-- congestion_surcharge: string (nullable = true)\n",
      "\n"
     ]
    }
   ],
   "source": [
    "df_yellow.printSchema()"
   ]
  },
  {
   "cell_type": "code",
   "execution_count": 16,
   "id": "8f8568dd-b6db-4560-a7a5-ed259710b139",
   "metadata": {},
   "outputs": [
    {
     "data": {
      "text/html": [
       "<div>\n",
       "<style scoped>\n",
       "    .dataframe tbody tr th:only-of-type {\n",
       "        vertical-align: middle;\n",
       "    }\n",
       "\n",
       "    .dataframe tbody tr th {\n",
       "        vertical-align: top;\n",
       "    }\n",
       "\n",
       "    .dataframe thead th {\n",
       "        text-align: right;\n",
       "    }\n",
       "</style>\n",
       "<table border=\"1\" class=\"dataframe\">\n",
       "  <thead>\n",
       "    <tr style=\"text-align: right;\">\n",
       "      <th></th>\n",
       "      <th>VendorID</th>\n",
       "      <th>lpep_pickup_datetime</th>\n",
       "      <th>lpep_dropoff_datetime</th>\n",
       "      <th>store_and_fwd_flag</th>\n",
       "      <th>RatecodeID</th>\n",
       "      <th>PULocationID</th>\n",
       "      <th>DOLocationID</th>\n",
       "      <th>passenger_count</th>\n",
       "      <th>trip_distance</th>\n",
       "      <th>fare_amount</th>\n",
       "      <th>extra</th>\n",
       "      <th>mta_tax</th>\n",
       "      <th>tip_amount</th>\n",
       "      <th>tolls_amount</th>\n",
       "      <th>ehail_fee</th>\n",
       "      <th>improvement_surcharge</th>\n",
       "      <th>total_amount</th>\n",
       "      <th>payment_type</th>\n",
       "      <th>trip_type</th>\n",
       "      <th>congestion_surcharge</th>\n",
       "    </tr>\n",
       "  </thead>\n",
       "  <tbody>\n",
       "    <tr>\n",
       "      <th>0</th>\n",
       "      <td>2</td>\n",
       "      <td>2021-01-01 00:15:56</td>\n",
       "      <td>2021-01-01 00:19:52</td>\n",
       "      <td>N</td>\n",
       "      <td>1</td>\n",
       "      <td>43</td>\n",
       "      <td>151</td>\n",
       "      <td>1</td>\n",
       "      <td>1.01</td>\n",
       "      <td>5.5</td>\n",
       "      <td>0.5</td>\n",
       "      <td>0.5</td>\n",
       "      <td>0.00</td>\n",
       "      <td>0.0</td>\n",
       "      <td>NaN</td>\n",
       "      <td>0.3</td>\n",
       "      <td>6.80</td>\n",
       "      <td>2</td>\n",
       "      <td>1</td>\n",
       "      <td>0.00</td>\n",
       "    </tr>\n",
       "    <tr>\n",
       "      <th>1</th>\n",
       "      <td>2</td>\n",
       "      <td>2021-01-01 00:25:59</td>\n",
       "      <td>2021-01-01 00:34:44</td>\n",
       "      <td>N</td>\n",
       "      <td>1</td>\n",
       "      <td>166</td>\n",
       "      <td>239</td>\n",
       "      <td>1</td>\n",
       "      <td>2.53</td>\n",
       "      <td>10.0</td>\n",
       "      <td>0.5</td>\n",
       "      <td>0.5</td>\n",
       "      <td>2.81</td>\n",
       "      <td>0.0</td>\n",
       "      <td>NaN</td>\n",
       "      <td>0.3</td>\n",
       "      <td>16.86</td>\n",
       "      <td>1</td>\n",
       "      <td>1</td>\n",
       "      <td>2.75</td>\n",
       "    </tr>\n",
       "    <tr>\n",
       "      <th>2</th>\n",
       "      <td>2</td>\n",
       "      <td>2021-01-01 00:45:57</td>\n",
       "      <td>2021-01-01 00:51:55</td>\n",
       "      <td>N</td>\n",
       "      <td>1</td>\n",
       "      <td>41</td>\n",
       "      <td>42</td>\n",
       "      <td>1</td>\n",
       "      <td>1.12</td>\n",
       "      <td>6.0</td>\n",
       "      <td>0.5</td>\n",
       "      <td>0.5</td>\n",
       "      <td>1.00</td>\n",
       "      <td>0.0</td>\n",
       "      <td>NaN</td>\n",
       "      <td>0.3</td>\n",
       "      <td>8.30</td>\n",
       "      <td>1</td>\n",
       "      <td>1</td>\n",
       "      <td>0.00</td>\n",
       "    </tr>\n",
       "    <tr>\n",
       "      <th>3</th>\n",
       "      <td>2</td>\n",
       "      <td>2020-12-31 23:57:51</td>\n",
       "      <td>2021-01-01 00:04:56</td>\n",
       "      <td>N</td>\n",
       "      <td>1</td>\n",
       "      <td>168</td>\n",
       "      <td>75</td>\n",
       "      <td>1</td>\n",
       "      <td>1.99</td>\n",
       "      <td>8.0</td>\n",
       "      <td>0.5</td>\n",
       "      <td>0.5</td>\n",
       "      <td>0.00</td>\n",
       "      <td>0.0</td>\n",
       "      <td>NaN</td>\n",
       "      <td>0.3</td>\n",
       "      <td>9.30</td>\n",
       "      <td>2</td>\n",
       "      <td>1</td>\n",
       "      <td>0.00</td>\n",
       "    </tr>\n",
       "    <tr>\n",
       "      <th>4</th>\n",
       "      <td>2</td>\n",
       "      <td>2021-01-01 00:16:36</td>\n",
       "      <td>2021-01-01 00:16:40</td>\n",
       "      <td>N</td>\n",
       "      <td>2</td>\n",
       "      <td>265</td>\n",
       "      <td>265</td>\n",
       "      <td>3</td>\n",
       "      <td>0.00</td>\n",
       "      <td>-52.0</td>\n",
       "      <td>0.0</td>\n",
       "      <td>-0.5</td>\n",
       "      <td>0.00</td>\n",
       "      <td>0.0</td>\n",
       "      <td>NaN</td>\n",
       "      <td>-0.3</td>\n",
       "      <td>-52.80</td>\n",
       "      <td>3</td>\n",
       "      <td>1</td>\n",
       "      <td>0.00</td>\n",
       "    </tr>\n",
       "  </tbody>\n",
       "</table>\n",
       "</div>"
      ],
      "text/plain": [
       "   VendorID lpep_pickup_datetime lpep_dropoff_datetime store_and_fwd_flag  \\\n",
       "0         2  2021-01-01 00:15:56   2021-01-01 00:19:52                  N   \n",
       "1         2  2021-01-01 00:25:59   2021-01-01 00:34:44                  N   \n",
       "2         2  2021-01-01 00:45:57   2021-01-01 00:51:55                  N   \n",
       "3         2  2020-12-31 23:57:51   2021-01-01 00:04:56                  N   \n",
       "4         2  2021-01-01 00:16:36   2021-01-01 00:16:40                  N   \n",
       "\n",
       "   RatecodeID  PULocationID  DOLocationID  passenger_count  trip_distance  \\\n",
       "0           1            43           151                1           1.01   \n",
       "1           1           166           239                1           2.53   \n",
       "2           1            41            42                1           1.12   \n",
       "3           1           168            75                1           1.99   \n",
       "4           2           265           265                3           0.00   \n",
       "\n",
       "   fare_amount  extra  mta_tax  tip_amount  tolls_amount  ehail_fee  \\\n",
       "0          5.5    0.5      0.5        0.00           0.0        NaN   \n",
       "1         10.0    0.5      0.5        2.81           0.0        NaN   \n",
       "2          6.0    0.5      0.5        1.00           0.0        NaN   \n",
       "3          8.0    0.5      0.5        0.00           0.0        NaN   \n",
       "4        -52.0    0.0     -0.5        0.00           0.0        NaN   \n",
       "\n",
       "   improvement_surcharge  total_amount  payment_type  trip_type  \\\n",
       "0                    0.3          6.80             2          1   \n",
       "1                    0.3         16.86             1          1   \n",
       "2                    0.3          8.30             1          1   \n",
       "3                    0.3          9.30             2          1   \n",
       "4                   -0.3        -52.80             3          1   \n",
       "\n",
       "   congestion_surcharge  \n",
       "0                  0.00  \n",
       "1                  2.75  \n",
       "2                  0.00  \n",
       "3                  0.00  \n",
       "4                  0.00  "
      ]
     },
     "execution_count": 16,
     "metadata": {},
     "output_type": "execute_result"
    }
   ],
   "source": [
    "df_yellow_pd = pd.read_csv('../data/raw/yellow/2021/01/yellow_tripdata_2021_01.csv.gz', nrows=1000)\n",
    "df_yellow_pd.head()"
   ]
  },
  {
   "cell_type": "code",
   "execution_count": 12,
   "id": "677d54d5-d9fb-4385-bf43-d91737d425c3",
   "metadata": {},
   "outputs": [
    {
     "data": {
      "text/plain": [
       "VendorID                   int64\n",
       "lpep_pickup_datetime      object\n",
       "lpep_dropoff_datetime     object\n",
       "store_and_fwd_flag        object\n",
       "RatecodeID                 int64\n",
       "PULocationID               int64\n",
       "DOLocationID               int64\n",
       "passenger_count            int64\n",
       "trip_distance            float64\n",
       "fare_amount              float64\n",
       "extra                    float64\n",
       "mta_tax                  float64\n",
       "tip_amount               float64\n",
       "tolls_amount             float64\n",
       "ehail_fee                float64\n",
       "improvement_surcharge    float64\n",
       "total_amount             float64\n",
       "payment_type               int64\n",
       "trip_type                  int64\n",
       "congestion_surcharge     float64\n",
       "dtype: object"
      ]
     },
     "execution_count": 12,
     "metadata": {},
     "output_type": "execute_result"
    }
   ],
   "source": [
    "df_yellow_pd.dtypes"
   ]
  },
  {
   "cell_type": "code",
   "execution_count": 20,
   "id": "e12ba9cd-deb0-4b85-8f4c-ef36a422a591",
   "metadata": {},
   "outputs": [
    {
     "data": {
      "text/plain": [
       "'2.1.4'"
      ]
     },
     "execution_count": 20,
     "metadata": {},
     "output_type": "execute_result"
    }
   ],
   "source": [
    "pd.__version__"
   ]
  },
  {
   "cell_type": "code",
   "execution_count": 22,
   "id": "9db16323-be37-472c-96e2-74c04f1d0f59",
   "metadata": {},
   "outputs": [],
   "source": [
    "\n",
    "# Convert your pandas DataFrame (df_yellow_pd) to a Spark DataFrame\n",
    "spark_df = spark.createDataFrame(df_yellow_pd.items())\n"
   ]
  },
  {
   "cell_type": "code",
   "execution_count": null,
   "id": "96b69bf5-f1fd-4da1-ba09-d233697dd2ab",
   "metadata": {},
   "outputs": [],
   "source": []
  },
  {
   "cell_type": "code",
   "execution_count": 23,
   "id": "5d8434e1",
   "metadata": {},
   "outputs": [],
   "source": [
    "from pyspark.sql import types"
   ]
  },
  {
   "cell_type": "code",
   "execution_count": 24,
   "id": "a84c6c6d",
   "metadata": {},
   "outputs": [],
   "source": [
    "yellow_schema = types.StructType([\n",
    "    types.StructField(\"VendorID\", types.IntegerType(), True),\n",
    "    types.StructField(\"lpep_pickup_datetime\", types.TimestampType(), True),\n",
    "    types.StructField(\"lpep_dropoff_datetime\", types.TimestampType(), True),\n",
    "    types.StructField(\"store_and_fwd_flag\", types.StringType(), True),\n",
    "    types.StructField(\"RatecodeID\", types.IntegerType(), True),\n",
    "    types.StructField(\"PULocationID\", types.IntegerType(), True),\n",
    "    types.StructField(\"DOLocationID\", types.IntegerType(), True),\n",
    "    types.StructField(\"passenger_count\", types.IntegerType(), True),\n",
    "    types.StructField(\"trip_distance\", types.DoubleType(), True),\n",
    "    types.StructField(\"fare_amount\", types.DoubleType(), True),\n",
    "    types.StructField(\"extra\", types.DoubleType(), True),\n",
    "    types.StructField(\"mta_tax\", types.DoubleType(), True),\n",
    "    types.StructField(\"tip_amount\", types.DoubleType(), True),\n",
    "    types.StructField(\"tolls_amount\", types.DoubleType(), True),\n",
    "    types.StructField(\"ehail_fee\", types.DoubleType(), True),\n",
    "    types.StructField(\"improvement_surcharge\", types.DoubleType(), True),\n",
    "    types.StructField(\"total_amount\", types.DoubleType(), True),\n",
    "    types.StructField(\"payment_type\", types.IntegerType(), True),\n",
    "    types.StructField(\"trip_type\", types.IntegerType(), True),\n",
    "    types.StructField(\"congestion_surcharge\", types.DoubleType(), True)\n",
    "])\n",
    "\n",
    "yellow_schema = types.StructType([\n",
    "    types.StructField(\"VendorID\", types.IntegerType(), True),\n",
    "    types.StructField(\"tpep_pickup_datetime\", types.TimestampType(), True),\n",
    "    types.StructField(\"tpep_dropoff_datetime\", types.TimestampType(), True),\n",
    "    types.StructField(\"passenger_count\", types.IntegerType(), True),\n",
    "    types.StructField(\"trip_distance\", types.DoubleType(), True),\n",
    "    types.StructField(\"RatecodeID\", types.IntegerType(), True),\n",
    "    types.StructField(\"store_and_fwd_flag\", types.StringType(), True),\n",
    "    types.StructField(\"PULocationID\", types.IntegerType(), True),\n",
    "    types.StructField(\"DOLocationID\", types.IntegerType(), True),\n",
    "    types.StructField(\"payment_type\", types.IntegerType(), True),\n",
    "    types.StructField(\"fare_amount\", types.DoubleType(), True),\n",
    "    types.StructField(\"extra\", types.DoubleType(), True),\n",
    "    types.StructField(\"mta_tax\", types.DoubleType(), True),\n",
    "    types.StructField(\"tip_amount\", types.DoubleType(), True),\n",
    "    types.StructField(\"tolls_amount\", types.DoubleType(), True),\n",
    "    types.StructField(\"improvement_surcharge\", types.DoubleType(), True),\n",
    "    types.StructField(\"total_amount\", types.DoubleType(), True),\n",
    "    types.StructField(\"congestion_surcharge\", types.DoubleType(), True)\n",
    "])"
   ]
  },
  {
   "cell_type": "code",
   "execution_count": 37,
   "id": "3f7e0cb9",
   "metadata": {},
   "outputs": [
    {
     "name": "stdout",
     "output_type": "stream",
     "text": [
      "processing data for 2020/1\n"
     ]
    },
    {
     "name": "stderr",
     "output_type": "stream",
     "text": [
      "                                                                                \r"
     ]
    },
    {
     "name": "stdout",
     "output_type": "stream",
     "text": [
      "processing data for 2020/2\n"
     ]
    },
    {
     "name": "stderr",
     "output_type": "stream",
     "text": [
      "                                                                                \r"
     ]
    },
    {
     "name": "stdout",
     "output_type": "stream",
     "text": [
      "processing data for 2020/3\n"
     ]
    },
    {
     "name": "stderr",
     "output_type": "stream",
     "text": [
      "                                                                                \r"
     ]
    },
    {
     "name": "stdout",
     "output_type": "stream",
     "text": [
      "processing data for 2020/4\n",
      "processing data for 2020/5\n",
      "processing data for 2020/6\n",
      "processing data for 2020/7\n",
      "processing data for 2020/8\n",
      "processing data for 2020/9\n",
      "processing data for 2020/10\n",
      "processing data for 2020/11\n",
      "processing data for 2020/12\n"
     ]
    }
   ],
   "source": [
    "import os\n",
    "\n",
    "year = 2020\n",
    "\n",
    "for month in range(1, 13):\n",
    "    print(f'processing data for {year}/{month}')\n",
    "\n",
    "    input_path = f'../data/raw/green/{year}/{month:02d}/'\n",
    "    output_path = f'../data/pq/green/{year}/{month:02d}/'\n",
    "\n",
    "    df_yellow = spark.read \\\n",
    "        .option(\"header\", \"true\") \\\n",
    "        .schema(green_schema) \\\n",
    "        .csv(input_path)\n",
    "\n",
    "    df_yellow \\\n",
    "        .repartition(4) \\\n",
    "        .write \\\n",
    "        .mode(\"overwrite\") \\\n",
    "        .parquet(output_path)\n",
    "\n",
    "\n"
   ]
  },
  {
   "cell_type": "code",
   "execution_count": 38,
   "id": "96ac2ad7",
   "metadata": {
    "scrolled": true
   },
   "outputs": [
    {
     "name": "stdout",
     "output_type": "stream",
     "text": [
      "processing data for 2021/1\n",
      "processing data for 2021/2\n",
      "processing data for 2021/3\n",
      "processing data for 2021/4\n",
      "processing data for 2021/5\n",
      "processing data for 2021/6\n",
      "processing data for 2021/7\n",
      "processing data for 2021/8\n",
      "processing data for 2021/9\n"
     ]
    },
    {
     "ename": "AnalysisException",
     "evalue": "Path does not exist: file:/home/ndirangu749/Data_Engineering_Zoomcamp_2024/module_5_batch_processing/data/raw/green/2021/09",
     "output_type": "error",
     "traceback": [
      "\u001b[0;31m---------------------------------------------------------------------------\u001b[0m",
      "\u001b[0;31mAnalysisException\u001b[0m                         Traceback (most recent call last)",
      "Cell \u001b[0;32mIn[38], line 12\u001b[0m\n\u001b[1;32m      6\u001b[0m input_path \u001b[38;5;241m=\u001b[39m \u001b[38;5;124mf\u001b[39m\u001b[38;5;124m'\u001b[39m\u001b[38;5;124m../data/raw/green/\u001b[39m\u001b[38;5;132;01m{\u001b[39;00myear\u001b[38;5;132;01m}\u001b[39;00m\u001b[38;5;124m/\u001b[39m\u001b[38;5;132;01m{\u001b[39;00mmonth\u001b[38;5;132;01m:\u001b[39;00m\u001b[38;5;124m02d\u001b[39m\u001b[38;5;132;01m}\u001b[39;00m\u001b[38;5;124m/\u001b[39m\u001b[38;5;124m'\u001b[39m\n\u001b[1;32m      7\u001b[0m output_path \u001b[38;5;241m=\u001b[39m \u001b[38;5;124mf\u001b[39m\u001b[38;5;124m'\u001b[39m\u001b[38;5;124m../data/pq/green/\u001b[39m\u001b[38;5;132;01m{\u001b[39;00myear\u001b[38;5;132;01m}\u001b[39;00m\u001b[38;5;124m/\u001b[39m\u001b[38;5;132;01m{\u001b[39;00mmonth\u001b[38;5;132;01m:\u001b[39;00m\u001b[38;5;124m02d\u001b[39m\u001b[38;5;132;01m}\u001b[39;00m\u001b[38;5;124m/\u001b[39m\u001b[38;5;124m'\u001b[39m\n\u001b[1;32m      9\u001b[0m df_yellow \u001b[38;5;241m=\u001b[39m spark\u001b[38;5;241m.\u001b[39mread \\\n\u001b[1;32m     10\u001b[0m     \u001b[38;5;241m.\u001b[39moption(\u001b[38;5;124m\"\u001b[39m\u001b[38;5;124mheader\u001b[39m\u001b[38;5;124m\"\u001b[39m, \u001b[38;5;124m\"\u001b[39m\u001b[38;5;124mtrue\u001b[39m\u001b[38;5;124m\"\u001b[39m) \\\n\u001b[1;32m     11\u001b[0m     \u001b[38;5;241m.\u001b[39mschema(green_schema) \\\n\u001b[0;32m---> 12\u001b[0m     \u001b[38;5;241m.\u001b[39mcsv(input_path)\n\u001b[1;32m     14\u001b[0m df_yellow \\\n\u001b[1;32m     15\u001b[0m     \u001b[38;5;241m.\u001b[39mrepartition(\u001b[38;5;241m4\u001b[39m) \\\n\u001b[1;32m     16\u001b[0m     \u001b[38;5;241m.\u001b[39mwrite \\\n\u001b[1;32m     17\u001b[0m     \u001b[38;5;241m.\u001b[39mmode(\u001b[38;5;124m\"\u001b[39m\u001b[38;5;124moverwrite\u001b[39m\u001b[38;5;124m\"\u001b[39m) \\\n\u001b[1;32m     18\u001b[0m     \u001b[38;5;241m.\u001b[39mparquet(output_path)\n",
      "File \u001b[0;32m~/spark/spark-3.3.2-bin-hadoop3/python/pyspark/sql/readwriter.py:535\u001b[0m, in \u001b[0;36mDataFrameReader.csv\u001b[0;34m(self, path, schema, sep, encoding, quote, escape, comment, header, inferSchema, ignoreLeadingWhiteSpace, ignoreTrailingWhiteSpace, nullValue, nanValue, positiveInf, negativeInf, dateFormat, timestampFormat, maxColumns, maxCharsPerColumn, maxMalformedLogPerPartition, mode, columnNameOfCorruptRecord, multiLine, charToEscapeQuoteEscaping, samplingRatio, enforceSchema, emptyValue, locale, lineSep, pathGlobFilter, recursiveFileLookup, modifiedBefore, modifiedAfter, unescapedQuoteHandling)\u001b[0m\n\u001b[1;32m    533\u001b[0m \u001b[38;5;28;01mif\u001b[39;00m \u001b[38;5;28mtype\u001b[39m(path) \u001b[38;5;241m==\u001b[39m \u001b[38;5;28mlist\u001b[39m:\n\u001b[1;32m    534\u001b[0m     \u001b[38;5;28;01massert\u001b[39;00m \u001b[38;5;28mself\u001b[39m\u001b[38;5;241m.\u001b[39m_spark\u001b[38;5;241m.\u001b[39m_sc\u001b[38;5;241m.\u001b[39m_jvm \u001b[38;5;129;01mis\u001b[39;00m \u001b[38;5;129;01mnot\u001b[39;00m \u001b[38;5;28;01mNone\u001b[39;00m\n\u001b[0;32m--> 535\u001b[0m     \u001b[38;5;28;01mreturn\u001b[39;00m \u001b[38;5;28mself\u001b[39m\u001b[38;5;241m.\u001b[39m_df(\u001b[38;5;28mself\u001b[39m\u001b[38;5;241m.\u001b[39m_jreader\u001b[38;5;241m.\u001b[39mcsv(\u001b[38;5;28mself\u001b[39m\u001b[38;5;241m.\u001b[39m_spark\u001b[38;5;241m.\u001b[39m_sc\u001b[38;5;241m.\u001b[39m_jvm\u001b[38;5;241m.\u001b[39mPythonUtils\u001b[38;5;241m.\u001b[39mtoSeq(path)))\n\u001b[1;32m    536\u001b[0m \u001b[38;5;28;01melif\u001b[39;00m \u001b[38;5;28misinstance\u001b[39m(path, RDD):\n\u001b[1;32m    538\u001b[0m     \u001b[38;5;28;01mdef\u001b[39;00m \u001b[38;5;21mfunc\u001b[39m(iterator):\n",
      "File \u001b[0;32m~/spark/spark-3.3.2-bin-hadoop3/python/lib/py4j-0.10.9.5-src.zip/py4j/java_gateway.py:1321\u001b[0m, in \u001b[0;36mJavaMember.__call__\u001b[0;34m(self, *args)\u001b[0m\n\u001b[1;32m   1315\u001b[0m command \u001b[38;5;241m=\u001b[39m proto\u001b[38;5;241m.\u001b[39mCALL_COMMAND_NAME \u001b[38;5;241m+\u001b[39m\\\n\u001b[1;32m   1316\u001b[0m     \u001b[38;5;28mself\u001b[39m\u001b[38;5;241m.\u001b[39mcommand_header \u001b[38;5;241m+\u001b[39m\\\n\u001b[1;32m   1317\u001b[0m     args_command \u001b[38;5;241m+\u001b[39m\\\n\u001b[1;32m   1318\u001b[0m     proto\u001b[38;5;241m.\u001b[39mEND_COMMAND_PART\n\u001b[1;32m   1320\u001b[0m answer \u001b[38;5;241m=\u001b[39m \u001b[38;5;28mself\u001b[39m\u001b[38;5;241m.\u001b[39mgateway_client\u001b[38;5;241m.\u001b[39msend_command(command)\n\u001b[0;32m-> 1321\u001b[0m return_value \u001b[38;5;241m=\u001b[39m get_return_value(\n\u001b[1;32m   1322\u001b[0m     answer, \u001b[38;5;28mself\u001b[39m\u001b[38;5;241m.\u001b[39mgateway_client, \u001b[38;5;28mself\u001b[39m\u001b[38;5;241m.\u001b[39mtarget_id, \u001b[38;5;28mself\u001b[39m\u001b[38;5;241m.\u001b[39mname)\n\u001b[1;32m   1324\u001b[0m \u001b[38;5;28;01mfor\u001b[39;00m temp_arg \u001b[38;5;129;01min\u001b[39;00m temp_args:\n\u001b[1;32m   1325\u001b[0m     temp_arg\u001b[38;5;241m.\u001b[39m_detach()\n",
      "File \u001b[0;32m~/spark/spark-3.3.2-bin-hadoop3/python/pyspark/sql/utils.py:196\u001b[0m, in \u001b[0;36mcapture_sql_exception.<locals>.deco\u001b[0;34m(*a, **kw)\u001b[0m\n\u001b[1;32m    192\u001b[0m converted \u001b[38;5;241m=\u001b[39m convert_exception(e\u001b[38;5;241m.\u001b[39mjava_exception)\n\u001b[1;32m    193\u001b[0m \u001b[38;5;28;01mif\u001b[39;00m \u001b[38;5;129;01mnot\u001b[39;00m \u001b[38;5;28misinstance\u001b[39m(converted, UnknownException):\n\u001b[1;32m    194\u001b[0m     \u001b[38;5;66;03m# Hide where the exception came from that shows a non-Pythonic\u001b[39;00m\n\u001b[1;32m    195\u001b[0m     \u001b[38;5;66;03m# JVM exception message.\u001b[39;00m\n\u001b[0;32m--> 196\u001b[0m     \u001b[38;5;28;01mraise\u001b[39;00m converted \u001b[38;5;28;01mfrom\u001b[39;00m \u001b[38;5;28;01mNone\u001b[39;00m\n\u001b[1;32m    197\u001b[0m \u001b[38;5;28;01melse\u001b[39;00m:\n\u001b[1;32m    198\u001b[0m     \u001b[38;5;28;01mraise\u001b[39;00m\n",
      "\u001b[0;31mAnalysisException\u001b[0m: Path does not exist: file:/home/ndirangu749/Data_Engineering_Zoomcamp_2024/module_5_batch_processing/data/raw/green/2021/09"
     ]
    }
   ],
   "source": [
    "year = 2021 \n",
    "\n",
    "for month in range(1, 13):\n",
    "    print(f'processing data for {year}/{month}')\n",
    "\n",
    "    input_path = f'../data/raw/green/{year}/{month:02d}/'\n",
    "    output_path = f'../data/pq/green/{year}/{month:02d}/'\n",
    "\n",
    "    df_yellow = spark.read \\\n",
    "        .option(\"header\", \"true\") \\\n",
    "        .schema(green_schema) \\\n",
    "        .csv(input_path)\n",
    "\n",
    "    df_yellow \\\n",
    "        .repartition(4) \\\n",
    "        .write \\\n",
    "        .mode(\"overwrite\") \\\n",
    "        .parquet(output_path)"
   ]
  },
  {
   "cell_type": "code",
   "execution_count": null,
   "id": "463c7dc8",
   "metadata": {},
   "outputs": [],
   "source": []
  },
  {
   "cell_type": "code",
   "execution_count": 23,
   "id": "6ff4265d",
   "metadata": {},
   "outputs": [],
   "source": []
  },
  {
   "cell_type": "code",
   "execution_count": 39,
   "id": "6e982d29",
   "metadata": {},
   "outputs": [
    {
     "name": "stdout",
     "output_type": "stream",
     "text": [
      "processing data for 2020/1\n"
     ]
    },
    {
     "name": "stderr",
     "output_type": "stream",
     "text": [
      "                                                                                \r"
     ]
    },
    {
     "name": "stdout",
     "output_type": "stream",
     "text": [
      "processing data for 2020/2\n"
     ]
    },
    {
     "name": "stderr",
     "output_type": "stream",
     "text": [
      "                                                                                \r"
     ]
    },
    {
     "name": "stdout",
     "output_type": "stream",
     "text": [
      "processing data for 2020/3\n"
     ]
    },
    {
     "name": "stderr",
     "output_type": "stream",
     "text": [
      "                                                                                \r"
     ]
    },
    {
     "name": "stdout",
     "output_type": "stream",
     "text": [
      "processing data for 2020/4\n"
     ]
    },
    {
     "name": "stderr",
     "output_type": "stream",
     "text": [
      "                                                                                \r"
     ]
    },
    {
     "name": "stdout",
     "output_type": "stream",
     "text": [
      "processing data for 2020/5\n"
     ]
    },
    {
     "name": "stderr",
     "output_type": "stream",
     "text": [
      "                                                                                \r"
     ]
    },
    {
     "name": "stdout",
     "output_type": "stream",
     "text": [
      "processing data for 2020/6\n"
     ]
    },
    {
     "name": "stderr",
     "output_type": "stream",
     "text": [
      "                                                                                \r"
     ]
    },
    {
     "name": "stdout",
     "output_type": "stream",
     "text": [
      "processing data for 2020/7\n"
     ]
    },
    {
     "name": "stderr",
     "output_type": "stream",
     "text": [
      "                                                                                \r"
     ]
    },
    {
     "name": "stdout",
     "output_type": "stream",
     "text": [
      "processing data for 2020/8\n"
     ]
    },
    {
     "name": "stderr",
     "output_type": "stream",
     "text": [
      "                                                                                \r"
     ]
    },
    {
     "name": "stdout",
     "output_type": "stream",
     "text": [
      "processing data for 2020/9\n"
     ]
    },
    {
     "name": "stderr",
     "output_type": "stream",
     "text": [
      "                                                                                \r"
     ]
    },
    {
     "name": "stdout",
     "output_type": "stream",
     "text": [
      "processing data for 2020/10\n"
     ]
    },
    {
     "name": "stderr",
     "output_type": "stream",
     "text": [
      "                                                                                \r"
     ]
    },
    {
     "name": "stdout",
     "output_type": "stream",
     "text": [
      "processing data for 2020/11\n"
     ]
    },
    {
     "name": "stderr",
     "output_type": "stream",
     "text": [
      "                                                                                \r"
     ]
    },
    {
     "name": "stdout",
     "output_type": "stream",
     "text": [
      "processing data for 2020/12\n"
     ]
    },
    {
     "name": "stderr",
     "output_type": "stream",
     "text": [
      "                                                                                \r"
     ]
    }
   ],
   "source": [
    "year = 2020\n",
    "for month in range(1, 13):\n",
    "    print(f'processing data for {year}/{month}')\n",
    "\n",
    "    input_path = f'../data/raw/yellow/{year}/{month:02d}/'\n",
    "    output_path = f'../data/pq/yellow/{year}/{month:02d}/'\n",
    "\n",
    "    df_yellow = spark.read \\\n",
    "        .option(\"header\", \"true\") \\\n",
    "        .schema(yellow_schema) \\\n",
    "        .csv(input_path)\n",
    "\n",
    "    df_yellow \\\n",
    "        .repartition(4) \\\n",
    "        .write \\\n",
    "        .mode(\"overwrite\") \\\n",
    "        .parquet(output_path)"
   ]
  },
  {
   "cell_type": "code",
   "execution_count": 35,
   "id": "aeca811a",
   "metadata": {},
   "outputs": [
    {
     "name": "stdout",
     "output_type": "stream",
     "text": [
      "processing data for 2021/1\n"
     ]
    },
    {
     "name": "stderr",
     "output_type": "stream",
     "text": [
      "                                                                                \r"
     ]
    },
    {
     "name": "stdout",
     "output_type": "stream",
     "text": [
      "processing data for 2021/2\n"
     ]
    },
    {
     "name": "stderr",
     "output_type": "stream",
     "text": [
      "                                                                                \r"
     ]
    },
    {
     "name": "stdout",
     "output_type": "stream",
     "text": [
      "processing data for 2021/3\n"
     ]
    },
    {
     "name": "stderr",
     "output_type": "stream",
     "text": [
      "                                                                                \r"
     ]
    },
    {
     "name": "stdout",
     "output_type": "stream",
     "text": [
      "processing data for 2021/4\n"
     ]
    },
    {
     "name": "stderr",
     "output_type": "stream",
     "text": [
      "                                                                                \r"
     ]
    },
    {
     "name": "stdout",
     "output_type": "stream",
     "text": [
      "processing data for 2021/5\n"
     ]
    },
    {
     "name": "stderr",
     "output_type": "stream",
     "text": [
      "                                                                                \r"
     ]
    },
    {
     "name": "stdout",
     "output_type": "stream",
     "text": [
      "processing data for 2021/6\n"
     ]
    },
    {
     "name": "stderr",
     "output_type": "stream",
     "text": [
      "                                                                                \r"
     ]
    },
    {
     "name": "stdout",
     "output_type": "stream",
     "text": [
      "processing data for 2021/7\n"
     ]
    },
    {
     "name": "stderr",
     "output_type": "stream",
     "text": [
      "                                                                                \r"
     ]
    },
    {
     "name": "stdout",
     "output_type": "stream",
     "text": [
      "processing data for 2021/8\n",
      "processing data for 2021/9\n"
     ]
    },
    {
     "ename": "AnalysisException",
     "evalue": "Path does not exist: file:/home/ndirangu749/Data_Engineering_Zoomcamp_2024/module_5_batch_processing/data/raw/yellow/2021/09",
     "output_type": "error",
     "traceback": [
      "\u001b[0;31m---------------------------------------------------------------------------\u001b[0m",
      "\u001b[0;31mAnalysisException\u001b[0m                         Traceback (most recent call last)",
      "Cell \u001b[0;32mIn[35], line 12\u001b[0m\n\u001b[1;32m      6\u001b[0m input_path \u001b[38;5;241m=\u001b[39m \u001b[38;5;124mf\u001b[39m\u001b[38;5;124m'\u001b[39m\u001b[38;5;124m../data/raw/yellow/\u001b[39m\u001b[38;5;132;01m{\u001b[39;00myear\u001b[38;5;132;01m}\u001b[39;00m\u001b[38;5;124m/\u001b[39m\u001b[38;5;132;01m{\u001b[39;00mmonth\u001b[38;5;132;01m:\u001b[39;00m\u001b[38;5;124m02d\u001b[39m\u001b[38;5;132;01m}\u001b[39;00m\u001b[38;5;124m/\u001b[39m\u001b[38;5;124m'\u001b[39m\n\u001b[1;32m      7\u001b[0m output_path \u001b[38;5;241m=\u001b[39m \u001b[38;5;124mf\u001b[39m\u001b[38;5;124m'\u001b[39m\u001b[38;5;124m../data/pq/yellow/\u001b[39m\u001b[38;5;132;01m{\u001b[39;00myear\u001b[38;5;132;01m}\u001b[39;00m\u001b[38;5;124m/\u001b[39m\u001b[38;5;132;01m{\u001b[39;00mmonth\u001b[38;5;132;01m:\u001b[39;00m\u001b[38;5;124m02d\u001b[39m\u001b[38;5;132;01m}\u001b[39;00m\u001b[38;5;124m/\u001b[39m\u001b[38;5;124m'\u001b[39m\n\u001b[1;32m      9\u001b[0m df_yellow \u001b[38;5;241m=\u001b[39m spark\u001b[38;5;241m.\u001b[39mread \\\n\u001b[1;32m     10\u001b[0m     \u001b[38;5;241m.\u001b[39moption(\u001b[38;5;124m\"\u001b[39m\u001b[38;5;124mheader\u001b[39m\u001b[38;5;124m\"\u001b[39m, \u001b[38;5;124m\"\u001b[39m\u001b[38;5;124mtrue\u001b[39m\u001b[38;5;124m\"\u001b[39m) \\\n\u001b[1;32m     11\u001b[0m     \u001b[38;5;241m.\u001b[39mschema(yellow_schema) \\\n\u001b[0;32m---> 12\u001b[0m     \u001b[38;5;241m.\u001b[39mcsv(input_path)\n\u001b[1;32m     14\u001b[0m df_yellow \\\n\u001b[1;32m     15\u001b[0m     \u001b[38;5;241m.\u001b[39mrepartition(\u001b[38;5;241m4\u001b[39m) \\\n\u001b[1;32m     16\u001b[0m     \u001b[38;5;241m.\u001b[39mwrite \\\n\u001b[1;32m     17\u001b[0m     \u001b[38;5;241m.\u001b[39mmode(\u001b[38;5;124m\"\u001b[39m\u001b[38;5;124moverwrite\u001b[39m\u001b[38;5;124m\"\u001b[39m) \\\n\u001b[1;32m     18\u001b[0m     \u001b[38;5;241m.\u001b[39mparquet(output_path)\n",
      "File \u001b[0;32m~/spark/spark-3.3.2-bin-hadoop3/python/pyspark/sql/readwriter.py:535\u001b[0m, in \u001b[0;36mDataFrameReader.csv\u001b[0;34m(self, path, schema, sep, encoding, quote, escape, comment, header, inferSchema, ignoreLeadingWhiteSpace, ignoreTrailingWhiteSpace, nullValue, nanValue, positiveInf, negativeInf, dateFormat, timestampFormat, maxColumns, maxCharsPerColumn, maxMalformedLogPerPartition, mode, columnNameOfCorruptRecord, multiLine, charToEscapeQuoteEscaping, samplingRatio, enforceSchema, emptyValue, locale, lineSep, pathGlobFilter, recursiveFileLookup, modifiedBefore, modifiedAfter, unescapedQuoteHandling)\u001b[0m\n\u001b[1;32m    533\u001b[0m \u001b[38;5;28;01mif\u001b[39;00m \u001b[38;5;28mtype\u001b[39m(path) \u001b[38;5;241m==\u001b[39m \u001b[38;5;28mlist\u001b[39m:\n\u001b[1;32m    534\u001b[0m     \u001b[38;5;28;01massert\u001b[39;00m \u001b[38;5;28mself\u001b[39m\u001b[38;5;241m.\u001b[39m_spark\u001b[38;5;241m.\u001b[39m_sc\u001b[38;5;241m.\u001b[39m_jvm \u001b[38;5;129;01mis\u001b[39;00m \u001b[38;5;129;01mnot\u001b[39;00m \u001b[38;5;28;01mNone\u001b[39;00m\n\u001b[0;32m--> 535\u001b[0m     \u001b[38;5;28;01mreturn\u001b[39;00m \u001b[38;5;28mself\u001b[39m\u001b[38;5;241m.\u001b[39m_df(\u001b[38;5;28mself\u001b[39m\u001b[38;5;241m.\u001b[39m_jreader\u001b[38;5;241m.\u001b[39mcsv(\u001b[38;5;28mself\u001b[39m\u001b[38;5;241m.\u001b[39m_spark\u001b[38;5;241m.\u001b[39m_sc\u001b[38;5;241m.\u001b[39m_jvm\u001b[38;5;241m.\u001b[39mPythonUtils\u001b[38;5;241m.\u001b[39mtoSeq(path)))\n\u001b[1;32m    536\u001b[0m \u001b[38;5;28;01melif\u001b[39;00m \u001b[38;5;28misinstance\u001b[39m(path, RDD):\n\u001b[1;32m    538\u001b[0m     \u001b[38;5;28;01mdef\u001b[39;00m \u001b[38;5;21mfunc\u001b[39m(iterator):\n",
      "File \u001b[0;32m~/spark/spark-3.3.2-bin-hadoop3/python/lib/py4j-0.10.9.5-src.zip/py4j/java_gateway.py:1321\u001b[0m, in \u001b[0;36mJavaMember.__call__\u001b[0;34m(self, *args)\u001b[0m\n\u001b[1;32m   1315\u001b[0m command \u001b[38;5;241m=\u001b[39m proto\u001b[38;5;241m.\u001b[39mCALL_COMMAND_NAME \u001b[38;5;241m+\u001b[39m\\\n\u001b[1;32m   1316\u001b[0m     \u001b[38;5;28mself\u001b[39m\u001b[38;5;241m.\u001b[39mcommand_header \u001b[38;5;241m+\u001b[39m\\\n\u001b[1;32m   1317\u001b[0m     args_command \u001b[38;5;241m+\u001b[39m\\\n\u001b[1;32m   1318\u001b[0m     proto\u001b[38;5;241m.\u001b[39mEND_COMMAND_PART\n\u001b[1;32m   1320\u001b[0m answer \u001b[38;5;241m=\u001b[39m \u001b[38;5;28mself\u001b[39m\u001b[38;5;241m.\u001b[39mgateway_client\u001b[38;5;241m.\u001b[39msend_command(command)\n\u001b[0;32m-> 1321\u001b[0m return_value \u001b[38;5;241m=\u001b[39m get_return_value(\n\u001b[1;32m   1322\u001b[0m     answer, \u001b[38;5;28mself\u001b[39m\u001b[38;5;241m.\u001b[39mgateway_client, \u001b[38;5;28mself\u001b[39m\u001b[38;5;241m.\u001b[39mtarget_id, \u001b[38;5;28mself\u001b[39m\u001b[38;5;241m.\u001b[39mname)\n\u001b[1;32m   1324\u001b[0m \u001b[38;5;28;01mfor\u001b[39;00m temp_arg \u001b[38;5;129;01min\u001b[39;00m temp_args:\n\u001b[1;32m   1325\u001b[0m     temp_arg\u001b[38;5;241m.\u001b[39m_detach()\n",
      "File \u001b[0;32m~/spark/spark-3.3.2-bin-hadoop3/python/pyspark/sql/utils.py:196\u001b[0m, in \u001b[0;36mcapture_sql_exception.<locals>.deco\u001b[0;34m(*a, **kw)\u001b[0m\n\u001b[1;32m    192\u001b[0m converted \u001b[38;5;241m=\u001b[39m convert_exception(e\u001b[38;5;241m.\u001b[39mjava_exception)\n\u001b[1;32m    193\u001b[0m \u001b[38;5;28;01mif\u001b[39;00m \u001b[38;5;129;01mnot\u001b[39;00m \u001b[38;5;28misinstance\u001b[39m(converted, UnknownException):\n\u001b[1;32m    194\u001b[0m     \u001b[38;5;66;03m# Hide where the exception came from that shows a non-Pythonic\u001b[39;00m\n\u001b[1;32m    195\u001b[0m     \u001b[38;5;66;03m# JVM exception message.\u001b[39;00m\n\u001b[0;32m--> 196\u001b[0m     \u001b[38;5;28;01mraise\u001b[39;00m converted \u001b[38;5;28;01mfrom\u001b[39;00m \u001b[38;5;28;01mNone\u001b[39;00m\n\u001b[1;32m    197\u001b[0m \u001b[38;5;28;01melse\u001b[39;00m:\n\u001b[1;32m    198\u001b[0m     \u001b[38;5;28;01mraise\u001b[39;00m\n",
      "\u001b[0;31mAnalysisException\u001b[0m: Path does not exist: file:/home/ndirangu749/Data_Engineering_Zoomcamp_2024/module_5_batch_processing/data/raw/yellow/2021/09"
     ]
    }
   ],
   "source": [
    "year = 2021\n",
    "\n",
    "for month in range(1, 13):\n",
    "    print(f'processing data for {year}/{month}')\n",
    "\n",
    "    input_path = f'../data/raw/yellow/{year}/{month:02d}/'\n",
    "    output_path = f'../data/pq/yellow/{year}/{month:02d}/'\n",
    "\n",
    "    df_yellow = spark.read \\\n",
    "        .option(\"header\", \"true\") \\\n",
    "        .schema(yellow_schema) \\\n",
    "        .csv(input_path)\n",
    "\n",
    "    df_yellow \\\n",
    "        .repartition(4) \\\n",
    "        .write \\\n",
    "        .mode(\"overwrite\") \\\n",
    "        .parquet(output_path)"
   ]
  },
  {
   "cell_type": "code",
   "execution_count": 33,
   "id": "d7eb0da9",
   "metadata": {},
   "outputs": [
    {
     "name": "stdout",
     "output_type": "stream",
     "text": [
      "\u001b[01;34mdata\u001b[00m\n",
      "├── \u001b[01;34mpq\u001b[00m\n",
      "│   ├── \u001b[01;34mgreen\u001b[00m\n",
      "│   │   ├── \u001b[01;34m2020\u001b[00m\n",
      "│   │   │   ├── \u001b[01;34m01\u001b[00m\n",
      "│   │   │   │   ├── _SUCCESS\n",
      "│   │   │   │   └── part-00000-20aaa992-3618-4593-aad9-63f18b184bdb-c000.snappy.parquet\n",
      "│   │   │   ├── \u001b[01;34m02\u001b[00m\n",
      "│   │   │   │   ├── _SUCCESS\n",
      "│   │   │   │   └── part-00000-e63551aa-0efa-4116-87f1-bc227208aeb3-c000.snappy.parquet\n",
      "│   │   │   ├── \u001b[01;34m03\u001b[00m\n",
      "│   │   │   │   ├── _SUCCESS\n",
      "│   │   │   │   └── part-00000-3b186c15-3f4c-49da-805b-d0e6551cbb38-c000.snappy.parquet\n",
      "│   │   │   ├── \u001b[01;34m04\u001b[00m\n",
      "│   │   │   │   ├── _SUCCESS\n",
      "│   │   │   │   └── part-00000-c26167dc-5782-465a-bb99-e82c408e8473-c000.snappy.parquet\n",
      "│   │   │   ├── \u001b[01;34m05\u001b[00m\n",
      "│   │   │   │   ├── _SUCCESS\n",
      "│   │   │   │   └── part-00000-bfec43c7-0eab-4852-82a7-a7246d32ff19-c000.snappy.parquet\n",
      "│   │   │   ├── \u001b[01;34m06\u001b[00m\n",
      "│   │   │   │   ├── _SUCCESS\n",
      "│   │   │   │   └── part-00000-7a21c54e-b785-4e89-840c-817b37ebe577-c000.snappy.parquet\n",
      "│   │   │   ├── \u001b[01;34m07\u001b[00m\n",
      "│   │   │   │   ├── _SUCCESS\n",
      "│   │   │   │   └── part-00000-1317b528-db90-48b0-8fe8-03cd43017d1b-c000.snappy.parquet\n",
      "│   │   │   ├── \u001b[01;34m08\u001b[00m\n",
      "│   │   │   │   ├── _SUCCESS\n",
      "│   │   │   │   └── part-00000-29a34b31-f4ac-4319-957d-b50b0f564620-c000.snappy.parquet\n",
      "│   │   │   ├── \u001b[01;34m09\u001b[00m\n",
      "│   │   │   │   ├── _SUCCESS\n",
      "│   │   │   │   └── part-00000-7ed40fbe-cd76-436d-ba6d-5b1705bde3e9-c000.snappy.parquet\n",
      "│   │   │   ├── \u001b[01;34m10\u001b[00m\n",
      "│   │   │   │   ├── _SUCCESS\n",
      "│   │   │   │   └── part-00000-d662ff4d-9b3b-4675-9065-d199cbe8594c-c000.snappy.parquet\n",
      "│   │   │   ├── \u001b[01;34m11\u001b[00m\n",
      "│   │   │   │   ├── _SUCCESS\n",
      "│   │   │   │   └── part-00000-f4c6bc6b-7b6b-4d2e-8ae0-609756db0daf-c000.snappy.parquet\n",
      "│   │   │   └── \u001b[01;34m12\u001b[00m\n",
      "│   │   │       ├── _SUCCESS\n",
      "│   │   │       └── part-00000-5127171d-b4c2-4d6f-95bf-47fe307da58d-c000.snappy.parquet\n",
      "│   │   └── \u001b[01;34m2021\u001b[00m\n",
      "│   │       ├── \u001b[01;34m01\u001b[00m\n",
      "│   │       │   ├── _SUCCESS\n",
      "│   │       │   └── part-00000-6f61c962-6f73-433c-935a-63b57188eff7-c000.snappy.parquet\n",
      "│   │       ├── \u001b[01;34m02\u001b[00m\n",
      "│   │       │   ├── _SUCCESS\n",
      "│   │       │   └── part-00000-5c5bc2cb-4246-4ba8-a3b8-1968bd4970e9-c000.snappy.parquet\n",
      "│   │       ├── \u001b[01;34m03\u001b[00m\n",
      "│   │       │   ├── _SUCCESS\n",
      "│   │       │   └── part-00000-18f2afef-4045-47dd-8def-6e08eb2568a5-c000.snappy.parquet\n",
      "│   │       ├── \u001b[01;34m04\u001b[00m\n",
      "│   │       │   ├── _SUCCESS\n",
      "│   │       │   └── part-00000-965d759b-5780-4d5b-bd43-148b8bca5765-c000.snappy.parquet\n",
      "│   │       ├── \u001b[01;34m05\u001b[00m\n",
      "│   │       │   ├── _SUCCESS\n",
      "│   │       │   └── part-00000-b554ea63-88f5-480d-a5ec-874b748b29b0-c000.snappy.parquet\n",
      "│   │       ├── \u001b[01;34m06\u001b[00m\n",
      "│   │       │   ├── _SUCCESS\n",
      "│   │       │   └── part-00000-7140e725-4974-4291-8705-6b54d404d279-c000.snappy.parquet\n",
      "│   │       ├── \u001b[01;34m07\u001b[00m\n",
      "│   │       │   ├── _SUCCESS\n",
      "│   │       │   └── part-00000-438d7782-1ea3-43df-9a61-c476df608e0a-c000.snappy.parquet\n",
      "│   │       ├── \u001b[01;34m08\u001b[00m\n",
      "│   │       │   ├── _SUCCESS\n",
      "│   │       │   └── part-00000-0cbbfe36-3e89-4adb-995d-5e3a4ac3bb34-c000.snappy.parquet\n",
      "│   │       ├── \u001b[01;34m09\u001b[00m\n",
      "│   │       │   ├── _SUCCESS\n",
      "│   │       │   └── part-00000-f42b84ec-35ca-42a2-9bbb-b95d96acbc0f-c000.snappy.parquet\n",
      "│   │       ├── \u001b[01;34m10\u001b[00m\n",
      "│   │       │   ├── _SUCCESS\n",
      "│   │       │   └── part-00000-c7860f9a-c9d2-4b89-a00d-7d8aaedb1d97-c000.snappy.parquet\n",
      "│   │       ├── \u001b[01;34m11\u001b[00m\n",
      "│   │       │   ├── _SUCCESS\n",
      "│   │       │   └── part-00000-1c363951-24e8-4cd4-964d-33ddbbbda364-c000.snappy.parquet\n",
      "│   │       └── \u001b[01;34m12\u001b[00m\n",
      "│   │           ├── _SUCCESS\n",
      "│   │           └── part-00000-c5d4d2f7-2de0-44fd-9caa-4d6e6555fe56-c000.snappy.parquet\n",
      "│   └── \u001b[01;34myellow\u001b[00m\n",
      "│       ├── \u001b[01;34m2020\u001b[00m\n",
      "│       │   ├── \u001b[01;34m01\u001b[00m\n",
      "│       │   │   ├── _SUCCESS\n",
      "│       │   │   └── part-00000-83d966ef-c5c1-4269-bed1-eee6e7c581f3-c000.snappy.parquet\n",
      "│       │   ├── \u001b[01;34m02\u001b[00m\n",
      "│       │   │   ├── _SUCCESS\n",
      "│       │   │   └── part-00000-dde4092c-0ede-43e8-b1dc-4b06e7034540-c000.snappy.parquet\n",
      "│       │   ├── \u001b[01;34m03\u001b[00m\n",
      "│       │   │   ├── _SUCCESS\n",
      "│       │   │   └── part-00000-22e9dd17-a84f-447b-974c-922d6a47d445-c000.snappy.parquet\n",
      "│       │   ├── \u001b[01;34m04\u001b[00m\n",
      "│       │   │   ├── _SUCCESS\n",
      "│       │   │   └── part-00000-0747a648-1b46-4eed-8fa8-edc5a673a260-c000.snappy.parquet\n",
      "│       │   ├── \u001b[01;34m05\u001b[00m\n",
      "│       │   │   ├── _SUCCESS\n",
      "│       │   │   └── part-00000-950853ba-b47a-4723-8872-375f06cb513b-c000.snappy.parquet\n",
      "│       │   ├── \u001b[01;34m06\u001b[00m\n",
      "│       │   │   ├── _SUCCESS\n",
      "│       │   │   └── part-00000-68e67f45-ca27-4f63-aa61-a059b188d822-c000.snappy.parquet\n",
      "│       │   ├── \u001b[01;34m07\u001b[00m\n",
      "│       │   │   ├── _SUCCESS\n",
      "│       │   │   └── part-00000-73eaee29-4102-45f4-9d50-73ee3ffbe24a-c000.snappy.parquet\n",
      "│       │   ├── \u001b[01;34m08\u001b[00m\n",
      "│       │   │   ├── _SUCCESS\n",
      "│       │   │   └── part-00000-d2755951-d944-440b-87a4-9335cab3e216-c000.snappy.parquet\n",
      "│       │   ├── \u001b[01;34m09\u001b[00m\n",
      "│       │   │   ├── _SUCCESS\n",
      "│       │   │   └── part-00000-7476fe52-b529-4953-be77-5526449bf481-c000.snappy.parquet\n",
      "│       │   ├── \u001b[01;34m10\u001b[00m\n",
      "│       │   │   ├── _SUCCESS\n",
      "│       │   │   └── part-00000-3d3ba7c7-9e93-45d9-a74b-0be4c2d04133-c000.snappy.parquet\n",
      "│       │   ├── \u001b[01;34m11\u001b[00m\n",
      "│       │   │   ├── _SUCCESS\n",
      "│       │   │   └── part-00000-2ca08bbc-0056-4913-8041-5e803422b993-c000.snappy.parquet\n",
      "│       │   └── \u001b[01;34m12\u001b[00m\n",
      "│       │       ├── _SUCCESS\n",
      "│       │       └── part-00000-55e30396-faa6-40b7-8c80-385e4288e7d2-c000.snappy.parquet\n",
      "│       └── \u001b[01;34m2021\u001b[00m\n",
      "│           ├── \u001b[01;34m01\u001b[00m\n",
      "│           │   ├── _SUCCESS\n",
      "│           │   └── part-00000-913293c2-19ad-4f9a-a295-5dc17a5c1dea-c000.snappy.parquet\n",
      "│           ├── \u001b[01;34m02\u001b[00m\n",
      "│           │   ├── _SUCCESS\n",
      "│           │   └── part-00000-923d6ba2-63e4-428c-a153-50e137c3a80e-c000.snappy.parquet\n",
      "│           ├── \u001b[01;34m03\u001b[00m\n",
      "│           │   ├── _SUCCESS\n",
      "│           │   └── part-00000-54aab5ee-d549-4628-9204-ce8c24d9b211-c000.snappy.parquet\n",
      "│           ├── \u001b[01;34m04\u001b[00m\n",
      "│           │   ├── _SUCCESS\n",
      "│           │   └── part-00000-0dfeabea-7106-4556-a83a-4b3fb92beb6e-c000.snappy.parquet\n",
      "│           ├── \u001b[01;34m05\u001b[00m\n",
      "│           │   ├── _SUCCESS\n",
      "│           │   └── part-00000-d6617518-3d3a-41c4-8850-ba16f55888f1-c000.snappy.parquet\n",
      "│           ├── \u001b[01;34m06\u001b[00m\n",
      "│           │   ├── _SUCCESS\n",
      "│           │   └── part-00000-8d7531a7-a914-49d4-beb0-c446612f21a8-c000.snappy.parquet\n",
      "│           ├── \u001b[01;34m07\u001b[00m\n",
      "│           │   ├── _SUCCESS\n",
      "│           │   └── part-00000-a3c4c7cf-04af-47c4-a414-2d91c29ddac4-c000.snappy.parquet\n",
      "│           ├── \u001b[01;34m08\u001b[00m\n",
      "│           │   ├── _SUCCESS\n",
      "│           │   └── part-00000-20a25b22-d05f-4220-8704-a82ce9ce4be9-c000.snappy.parquet\n",
      "│           ├── \u001b[01;34m09\u001b[00m\n",
      "│           │   ├── _SUCCESS\n",
      "│           │   └── part-00000-97f16962-37b4-4115-88b8-4feda8817c71-c000.snappy.parquet\n",
      "│           ├── \u001b[01;34m10\u001b[00m\n",
      "│           │   ├── _SUCCESS\n",
      "│           │   └── part-00000-4d19d389-252c-432e-a222-a89a2a7dd070-c000.snappy.parquet\n",
      "│           ├── \u001b[01;34m11\u001b[00m\n",
      "│           │   ├── _SUCCESS\n",
      "│           │   └── part-00000-278218b3-ac49-479c-9e78-7f91b10bfa63-c000.snappy.parquet\n",
      "│           └── \u001b[01;34m12\u001b[00m\n",
      "│               ├── _SUCCESS\n",
      "│               └── part-00000-158a1fd4-f295-4a9a-b610-2a74ad0a1656-c000.snappy.parquet\n",
      "└── \u001b[01;34mraw\u001b[00m\n",
      "    ├── \u001b[01;34mgreen\u001b[00m\n",
      "    │   ├── \u001b[01;34m2020\u001b[00m\n",
      "    │   │   ├── \u001b[01;34m01\u001b[00m\n",
      "    │   │   ├── \u001b[01;34m02\u001b[00m\n",
      "    │   │   ├── \u001b[01;34m03\u001b[00m\n",
      "    │   │   ├── \u001b[01;34m04\u001b[00m\n",
      "    │   │   ├── \u001b[01;34m05\u001b[00m\n",
      "    │   │   ├── \u001b[01;34m06\u001b[00m\n",
      "    │   │   ├── \u001b[01;34m07\u001b[00m\n",
      "    │   │   ├── \u001b[01;34m08\u001b[00m\n",
      "    │   │   ├── \u001b[01;34m09\u001b[00m\n",
      "    │   │   ├── \u001b[01;34m10\u001b[00m\n",
      "    │   │   ├── \u001b[01;34m11\u001b[00m\n",
      "    │   │   └── \u001b[01;34m12\u001b[00m\n",
      "    │   └── \u001b[01;34m2021\u001b[00m\n",
      "    │       ├── \u001b[01;34m01\u001b[00m\n",
      "    │       ├── \u001b[01;34m02\u001b[00m\n",
      "    │       ├── \u001b[01;34m03\u001b[00m\n",
      "    │       ├── \u001b[01;34m04\u001b[00m\n",
      "    │       ├── \u001b[01;34m05\u001b[00m\n",
      "    │       ├── \u001b[01;34m06\u001b[00m\n",
      "    │       ├── \u001b[01;34m07\u001b[00m\n",
      "    │       ├── \u001b[01;34m08\u001b[00m\n",
      "    │       ├── \u001b[01;34m09\u001b[00m\n",
      "    │       ├── \u001b[01;34m10\u001b[00m\n",
      "    │       ├── \u001b[01;34m11\u001b[00m\n",
      "    │       └── \u001b[01;34m12\u001b[00m\n",
      "    └── \u001b[01;34myellow\u001b[00m\n",
      "        ├── \u001b[01;34m2020\u001b[00m\n",
      "        │   ├── \u001b[01;34m01\u001b[00m\n",
      "        │   ├── \u001b[01;34m02\u001b[00m\n",
      "        │   ├── \u001b[01;34m03\u001b[00m\n",
      "        │   ├── \u001b[01;34m04\u001b[00m\n",
      "        │   ├── \u001b[01;34m05\u001b[00m\n",
      "        │   ├── \u001b[01;34m06\u001b[00m\n",
      "        │   ├── \u001b[01;34m07\u001b[00m\n",
      "        │   ├── \u001b[01;34m08\u001b[00m\n",
      "        │   ├── \u001b[01;34m09\u001b[00m\n",
      "        │   ├── \u001b[01;34m10\u001b[00m\n",
      "        │   ├── \u001b[01;34m11\u001b[00m\n",
      "        │   └── \u001b[01;34m12\u001b[00m\n",
      "        └── \u001b[01;34m2021\u001b[00m\n",
      "            ├── \u001b[01;34m01\u001b[00m\n",
      "            ├── \u001b[01;34m02\u001b[00m\n",
      "            ├── \u001b[01;34m03\u001b[00m\n",
      "            ├── \u001b[01;34m04\u001b[00m\n",
      "            ├── \u001b[01;34m05\u001b[00m\n",
      "            ├── \u001b[01;34m06\u001b[00m\n",
      "            ├── \u001b[01;34m07\u001b[00m\n",
      "            ├── \u001b[01;34m08\u001b[00m\n",
      "            ├── \u001b[01;34m09\u001b[00m\n",
      "            ├── \u001b[01;34m10\u001b[00m\n",
      "            ├── \u001b[01;34m11\u001b[00m\n",
      "            └── \u001b[01;34m12\u001b[00m\n",
      "\n",
      "110 directories, 96 files\n"
     ]
    }
   ],
   "source": [
    "!tree data"
   ]
  },
  {
   "cell_type": "code",
   "execution_count": null,
   "id": "15640f63-7f0e-446c-8e4c-882ab2567292",
   "metadata": {},
   "outputs": [],
   "source": []
  }
 ],
 "metadata": {
  "kernelspec": {
   "display_name": "Python 3 (ipykernel)",
   "language": "python",
   "name": "python3"
  },
  "language_info": {
   "codemirror_mode": {
    "name": "ipython",
    "version": 3
   },
   "file_extension": ".py",
   "mimetype": "text/x-python",
   "name": "python",
   "nbconvert_exporter": "python",
   "pygments_lexer": "ipython3",
   "version": "3.11.7"
  }
 },
 "nbformat": 4,
 "nbformat_minor": 5
}
