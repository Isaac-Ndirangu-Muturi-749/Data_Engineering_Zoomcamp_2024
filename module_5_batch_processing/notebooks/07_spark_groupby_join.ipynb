{
 "cells": [
  {
   "cell_type": "code",
   "execution_count": 1,
   "id": "4341e0e6",
   "metadata": {},
   "outputs": [
    {
     "name": "stderr",
     "output_type": "stream",
     "text": [
      "Setting default log level to \"WARN\".\n",
      "To adjust logging level use sc.setLogLevel(newLevel). For SparkR, use setLogLevel(newLevel).\n"
     ]
    },
    {
     "name": "stdout",
     "output_type": "stream",
     "text": [
      "24/03/03 17:51:56 WARN NativeCodeLoader: Unable to load native-hadoop library for your platform... using builtin-java classes where applicable\n",
      "24/03/03 17:51:59 WARN Utils: Service 'SparkUI' could not bind on port 4040. Attempting port 4041.\n"
     ]
    }
   ],
   "source": [
    "import pyspark\n",
    "from pyspark.sql import SparkSession\n",
    "\n",
    "spark = SparkSession.builder \\\n",
    "    .master(\"local[*]\") \\\n",
    "    .appName('test') \\\n",
    "    .getOrCreate()"
   ]
  },
  {
   "cell_type": "code",
   "execution_count": 3,
   "id": "cd304aec",
   "metadata": {},
   "outputs": [
    {
     "name": "stderr",
     "output_type": "stream",
     "text": [
      "                                                                                \r"
     ]
    }
   ],
   "source": [
    "df_green = spark.read.parquet('../data/pq/green/*/*')"
   ]
  },
  {
   "cell_type": "code",
   "execution_count": 4,
   "id": "243991f3",
   "metadata": {},
   "outputs": [
    {
     "name": "stderr",
     "output_type": "stream",
     "text": [
      "/home/ndirangu749/spark/spark-3.3.2-bin-hadoop3/python/pyspark/sql/dataframe.py:229: FutureWarning: Deprecated in 2.0, use createOrReplaceTempView instead.\n",
      "  warnings.warn(\"Deprecated in 2.0, use createOrReplaceTempView instead.\", FutureWarning)\n"
     ]
    }
   ],
   "source": [
    "df_green.registerTempTable('green')"
   ]
  },
  {
   "cell_type": "code",
   "execution_count": 5,
   "id": "e43764a7",
   "metadata": {},
   "outputs": [],
   "source": [
    "df_green_revenue = spark.sql(\"\"\"\n",
    "SELECT \n",
    "    date_trunc('hour', lpep_pickup_datetime) AS hour, \n",
    "    PULocationID AS zone,\n",
    "\n",
    "    SUM(total_amount) AS hourly_amount,\n",
    "    COUNT(1) AS hourly_number_records\n",
    "FROM\n",
    "    green\n",
    "WHERE\n",
    "    lpep_pickup_datetime >= '2020-01-01 00:00:00'\n",
    "GROUP BY\n",
    "    1, 2\n",
    "\"\"\")"
   ]
  },
  {
   "cell_type": "code",
   "execution_count": 6,
   "id": "8cef4ffa-5319-45ff-9640-d82646d713c1",
   "metadata": {},
   "outputs": [
    {
     "name": "stderr",
     "output_type": "stream",
     "text": [
      "[Stage 1:============================================>              (3 + 1) / 4]\r"
     ]
    },
    {
     "name": "stdout",
     "output_type": "stream",
     "text": [
      "+-------------------+----+------------------+---------------------+\n",
      "|               hour|zone|     hourly_amount|hourly_number_records|\n",
      "+-------------------+----+------------------+---------------------+\n",
      "|2020-01-28 19:00:00| 134|193.61000000000007|                   17|\n",
      "|2020-01-22 19:00:00|  65| 657.0300000000001|                   41|\n",
      "|2020-01-27 08:00:00|  17|             85.56|                    4|\n",
      "|2020-01-02 09:00:00|  66|229.39999999999998|                   12|\n",
      "|2020-01-02 12:00:00|  89|310.28000000000003|                   14|\n",
      "|2020-01-07 12:00:00|  66|             179.5|                    9|\n",
      "|2020-01-03 08:00:00| 223|165.90000000000003|                    9|\n",
      "|2020-01-17 10:00:00|  41| 638.2699999999999|                   49|\n",
      "|2020-01-02 11:00:00|  26|             198.6|                    7|\n",
      "|2020-01-12 20:00:00| 247|36.900000000000006|                    3|\n",
      "|2020-01-12 15:00:00|  10|             75.92|                    1|\n",
      "|2020-01-24 04:00:00| 129|148.89000000000001|                   13|\n",
      "|2020-01-04 20:00:00|  25| 369.5700000000001|                   23|\n",
      "|2020-01-22 10:00:00|  74|1179.0599999999988|                   83|\n",
      "|2020-01-13 18:00:00|  92|207.02000000000004|                   11|\n",
      "|2020-01-19 11:00:00| 218|            181.16|                    5|\n",
      "|2020-01-26 12:00:00|  35|257.03000000000003|                    8|\n",
      "|2020-01-30 06:00:00|  75|            282.63|                   19|\n",
      "|2020-01-04 22:00:00|  83|            298.16|                   15|\n",
      "|2020-01-06 21:00:00| 129|288.02000000000004|                   14|\n",
      "+-------------------+----+------------------+---------------------+\n",
      "only showing top 20 rows\n",
      "\n"
     ]
    },
    {
     "name": "stderr",
     "output_type": "stream",
     "text": [
      "                                                                                \r"
     ]
    }
   ],
   "source": [
    "df_green_revenue.show()"
   ]
  },
  {
   "cell_type": "code",
   "execution_count": 7,
   "id": "3e00310e",
   "metadata": {},
   "outputs": [
    {
     "name": "stderr",
     "output_type": "stream",
     "text": [
      "                                                                                \r"
     ]
    }
   ],
   "source": [
    "df_green_revenue \\\n",
    "    .repartition(20) \\\n",
    "    .write.parquet('../data/report/revenue/green', mode='overwrite')"
   ]
  },
  {
   "cell_type": "code",
   "execution_count": null,
   "id": "d854333d-7d84-4f9c-97ec-0573d9a9163d",
   "metadata": {},
   "outputs": [],
   "source": []
  },
  {
   "cell_type": "code",
   "execution_count": 8,
   "id": "07ebb68c",
   "metadata": {},
   "outputs": [],
   "source": [
    "df_yellow = spark.read.parquet('../data/pq/yellow/*/*')\n",
    "df_yellow.registerTempTable('yellow')"
   ]
  },
  {
   "cell_type": "code",
   "execution_count": 9,
   "id": "9d5be29d",
   "metadata": {},
   "outputs": [],
   "source": [
    "df_yellow_revenue = spark.sql(\"\"\"\n",
    "SELECT \n",
    "    date_trunc('hour', tpep_pickup_datetime) AS hour, \n",
    "    PULocationID AS zone,\n",
    "\n",
    "    SUM(total_amount) AS hourly_amount,\n",
    "    COUNT(1) AS hourly_number_records\n",
    "FROM\n",
    "    yellow\n",
    "WHERE\n",
    "    tpep_pickup_datetime >= '2020-01-01 00:00:00'\n",
    "GROUP BY\n",
    "    1, 2\n",
    "\"\"\")"
   ]
  },
  {
   "cell_type": "code",
   "execution_count": 10,
   "id": "b7bea2b1-67d2-4fad-b818-3a0bffba5577",
   "metadata": {},
   "outputs": [
    {
     "name": "stderr",
     "output_type": "stream",
     "text": [
      "[Stage 11:==============================================>         (10 + 2) / 12]\r"
     ]
    },
    {
     "name": "stdout",
     "output_type": "stream",
     "text": [
      "+-------------------+----+------------------+---------------------+\n",
      "|               hour|zone|     hourly_amount|hourly_number_records|\n",
      "+-------------------+----+------------------+---------------------+\n",
      "|2020-01-10 06:00:00| 144|            149.51|                    9|\n",
      "|2020-01-29 03:00:00|  13|            248.89|                    6|\n",
      "|2020-01-13 21:00:00| 255|            108.98|                    8|\n",
      "|2020-01-04 12:00:00| 249| 2245.569999999999|                  152|\n",
      "|2020-01-02 15:00:00| 236| 7382.910000000018|                  504|\n",
      "|2020-01-31 21:00:00|  50|1784.4399999999994|                  104|\n",
      "|2020-01-07 12:00:00|  68| 3046.229999999997|                  181|\n",
      "|2020-01-02 09:00:00| 161|4299.9299999999985|                  242|\n",
      "|2020-01-23 17:00:00| 233| 4642.769999999999|                  235|\n",
      "|2020-01-06 22:00:00| 158| 923.2100000000003|                   57|\n",
      "|2020-01-15 07:00:00|  13|2432.6299999999997|                  118|\n",
      "|2020-01-23 19:00:00| 224|            327.28|                   16|\n",
      "|2020-01-18 00:00:00| 144|2951.2999999999984|                  174|\n",
      "|2020-01-17 19:00:00| 170| 9634.390000000025|                  555|\n",
      "|2020-01-06 08:00:00|  43| 2765.499999999998|                  169|\n",
      "|2020-01-23 22:00:00| 162| 9752.940000000017|                  553|\n",
      "|2020-01-25 21:00:00| 230| 5935.560000000009|                  388|\n",
      "|2020-01-04 02:00:00|  79| 6893.030000000011|                  426|\n",
      "|2020-01-01 01:00:00| 107| 9994.480000000025|                  583|\n",
      "|2020-01-21 18:00:00| 162| 14090.39000000004|                  816|\n",
      "+-------------------+----+------------------+---------------------+\n",
      "only showing top 20 rows\n",
      "\n"
     ]
    },
    {
     "name": "stderr",
     "output_type": "stream",
     "text": [
      "                                                                                \r"
     ]
    }
   ],
   "source": [
    "df_yellow_revenue.show()"
   ]
  },
  {
   "cell_type": "code",
   "execution_count": 11,
   "id": "8bd9264e",
   "metadata": {},
   "outputs": [
    {
     "name": "stderr",
     "output_type": "stream",
     "text": [
      "                                                                                \r"
     ]
    }
   ],
   "source": [
    "df_yellow_revenue \\\n",
    "    .repartition(20) \\\n",
    "    .write.parquet('../data/report/revenue/yellow', mode='overwrite')"
   ]
  },
  {
   "cell_type": "code",
   "execution_count": 25,
   "id": "7495b785-3f49-4b15-942d-8c1c50f5c557",
   "metadata": {},
   "outputs": [
    {
     "name": "stdout",
     "output_type": "stream",
     "text": [
      "\u001b[01;34m../data/report/\u001b[00m\n",
      "└── \u001b[01;34mrevenue\u001b[00m\n",
      "    ├── _SUCCESS\n",
      "    ├── \u001b[01;34mgreen\u001b[00m\n",
      "    │   ├── _SUCCESS\n",
      "    │   ├── part-00000-2662b5fe-43af-4ce3-be3b-1fb9a4590532-c000.snappy.parquet\n",
      "    │   ├── part-00001-2662b5fe-43af-4ce3-be3b-1fb9a4590532-c000.snappy.parquet\n",
      "    │   ├── part-00002-2662b5fe-43af-4ce3-be3b-1fb9a4590532-c000.snappy.parquet\n",
      "    │   ├── part-00003-2662b5fe-43af-4ce3-be3b-1fb9a4590532-c000.snappy.parquet\n",
      "    │   ├── part-00004-2662b5fe-43af-4ce3-be3b-1fb9a4590532-c000.snappy.parquet\n",
      "    │   ├── part-00005-2662b5fe-43af-4ce3-be3b-1fb9a4590532-c000.snappy.parquet\n",
      "    │   ├── part-00006-2662b5fe-43af-4ce3-be3b-1fb9a4590532-c000.snappy.parquet\n",
      "    │   ├── part-00007-2662b5fe-43af-4ce3-be3b-1fb9a4590532-c000.snappy.parquet\n",
      "    │   ├── part-00008-2662b5fe-43af-4ce3-be3b-1fb9a4590532-c000.snappy.parquet\n",
      "    │   ├── part-00009-2662b5fe-43af-4ce3-be3b-1fb9a4590532-c000.snappy.parquet\n",
      "    │   ├── part-00010-2662b5fe-43af-4ce3-be3b-1fb9a4590532-c000.snappy.parquet\n",
      "    │   ├── part-00011-2662b5fe-43af-4ce3-be3b-1fb9a4590532-c000.snappy.parquet\n",
      "    │   ├── part-00012-2662b5fe-43af-4ce3-be3b-1fb9a4590532-c000.snappy.parquet\n",
      "    │   ├── part-00013-2662b5fe-43af-4ce3-be3b-1fb9a4590532-c000.snappy.parquet\n",
      "    │   ├── part-00014-2662b5fe-43af-4ce3-be3b-1fb9a4590532-c000.snappy.parquet\n",
      "    │   ├── part-00015-2662b5fe-43af-4ce3-be3b-1fb9a4590532-c000.snappy.parquet\n",
      "    │   ├── part-00016-2662b5fe-43af-4ce3-be3b-1fb9a4590532-c000.snappy.parquet\n",
      "    │   ├── part-00017-2662b5fe-43af-4ce3-be3b-1fb9a4590532-c000.snappy.parquet\n",
      "    │   ├── part-00018-2662b5fe-43af-4ce3-be3b-1fb9a4590532-c000.snappy.parquet\n",
      "    │   └── part-00019-2662b5fe-43af-4ce3-be3b-1fb9a4590532-c000.snappy.parquet\n",
      "    ├── part-00000-ff9bedf8-3368-4c1b-890e-a357572814f2-c000.snappy.parquet\n",
      "    ├── \u001b[01;34mtotal\u001b[00m\n",
      "    │   ├── _SUCCESS\n",
      "    │   ├── part-00000-006d0888-b40f-48ac-af9b-86e51911735f-c000.snappy.parquet\n",
      "    │   ├── part-00001-006d0888-b40f-48ac-af9b-86e51911735f-c000.snappy.parquet\n",
      "    │   ├── part-00002-006d0888-b40f-48ac-af9b-86e51911735f-c000.snappy.parquet\n",
      "    │   └── part-00003-006d0888-b40f-48ac-af9b-86e51911735f-c000.snappy.parquet\n",
      "    └── \u001b[01;34myellow\u001b[00m\n",
      "        ├── _SUCCESS\n",
      "        ├── part-00000-50e99aa2-f8ed-4837-98c6-0d5be0e4d02d-c000.snappy.parquet\n",
      "        ├── part-00001-50e99aa2-f8ed-4837-98c6-0d5be0e4d02d-c000.snappy.parquet\n",
      "        ├── part-00002-50e99aa2-f8ed-4837-98c6-0d5be0e4d02d-c000.snappy.parquet\n",
      "        ├── part-00003-50e99aa2-f8ed-4837-98c6-0d5be0e4d02d-c000.snappy.parquet\n",
      "        ├── part-00004-50e99aa2-f8ed-4837-98c6-0d5be0e4d02d-c000.snappy.parquet\n",
      "        ├── part-00005-50e99aa2-f8ed-4837-98c6-0d5be0e4d02d-c000.snappy.parquet\n",
      "        ├── part-00006-50e99aa2-f8ed-4837-98c6-0d5be0e4d02d-c000.snappy.parquet\n",
      "        ├── part-00007-50e99aa2-f8ed-4837-98c6-0d5be0e4d02d-c000.snappy.parquet\n",
      "        ├── part-00008-50e99aa2-f8ed-4837-98c6-0d5be0e4d02d-c000.snappy.parquet\n",
      "        ├── part-00009-50e99aa2-f8ed-4837-98c6-0d5be0e4d02d-c000.snappy.parquet\n",
      "        ├── part-00010-50e99aa2-f8ed-4837-98c6-0d5be0e4d02d-c000.snappy.parquet\n",
      "        ├── part-00011-50e99aa2-f8ed-4837-98c6-0d5be0e4d02d-c000.snappy.parquet\n",
      "        ├── part-00012-50e99aa2-f8ed-4837-98c6-0d5be0e4d02d-c000.snappy.parquet\n",
      "        ├── part-00013-50e99aa2-f8ed-4837-98c6-0d5be0e4d02d-c000.snappy.parquet\n",
      "        ├── part-00014-50e99aa2-f8ed-4837-98c6-0d5be0e4d02d-c000.snappy.parquet\n",
      "        ├── part-00015-50e99aa2-f8ed-4837-98c6-0d5be0e4d02d-c000.snappy.parquet\n",
      "        ├── part-00016-50e99aa2-f8ed-4837-98c6-0d5be0e4d02d-c000.snappy.parquet\n",
      "        ├── part-00017-50e99aa2-f8ed-4837-98c6-0d5be0e4d02d-c000.snappy.parquet\n",
      "        ├── part-00018-50e99aa2-f8ed-4837-98c6-0d5be0e4d02d-c000.snappy.parquet\n",
      "        └── part-00019-50e99aa2-f8ed-4837-98c6-0d5be0e4d02d-c000.snappy.parquet\n",
      "\n",
      "4 directories, 49 files\n"
     ]
    }
   ],
   "source": [
    "!tree ../data/report/"
   ]
  },
  {
   "cell_type": "code",
   "execution_count": null,
   "id": "9be71de7-076d-4c33-af3b-c649a305ea21",
   "metadata": {},
   "outputs": [],
   "source": []
  },
  {
   "cell_type": "code",
   "execution_count": 12,
   "id": "fd5d74d7",
   "metadata": {},
   "outputs": [],
   "source": [
    "df_green_revenue = spark.read.parquet('../data/report/revenue/green')\n",
    "df_yellow_revenue = spark.read.parquet('../data/report/revenue/yellow')"
   ]
  },
  {
   "cell_type": "code",
   "execution_count": 13,
   "id": "35015ee6",
   "metadata": {},
   "outputs": [],
   "source": [
    "df_green_revenue_tmp = df_green_revenue \\\n",
    "    .withColumnRenamed('hourly_amount', 'green_amount') \\\n",
    "    .withColumnRenamed('hourly_number_records', 'green_number_records')\n",
    "\n",
    "df_yellow_revenue_tmp = df_yellow_revenue \\\n",
    "    .withColumnRenamed('hourly_amount', 'yellow_amount') \\\n",
    "    .withColumnRenamed('hourly_number_records', 'yellow_number_records')"
   ]
  },
  {
   "cell_type": "code",
   "execution_count": 14,
   "id": "ec9f34ea",
   "metadata": {},
   "outputs": [],
   "source": [
    "df_join = df_green_revenue_tmp.join(df_yellow_revenue_tmp, on=['hour', 'zone'], how='outer')"
   ]
  },
  {
   "cell_type": "code",
   "execution_count": 17,
   "id": "0e773b98-8179-4d45-9802-035c8aa5f522",
   "metadata": {},
   "outputs": [
    {
     "name": "stdout",
     "output_type": "stream",
     "text": [
      "+-------------------+----+------------------+--------------------+------------------+---------------------+\n",
      "|               hour|zone|      green_amount|green_number_records|     yellow_amount|yellow_number_records|\n",
      "+-------------------+----+------------------+--------------------+------------------+---------------------+\n",
      "|2020-01-01 00:00:00|  14|              null|                null|               8.8|                    1|\n",
      "|2020-01-01 00:00:00|  15|              null|                null|             34.09|                    1|\n",
      "|2020-01-01 00:00:00|  17|195.03000000000003|                   9|220.20999999999998|                    8|\n",
      "|2020-01-01 00:00:00|  25| 531.0000000000002|                  26|            324.35|                   16|\n",
      "|2020-01-01 00:00:00|  32| 68.94999999999999|                   2|              18.0|                    1|\n",
      "|2020-01-01 00:00:00|  43|            107.52|                   6| 6539.510000000012|                  390|\n",
      "|2020-01-01 00:00:00|  49|266.76000000000005|                  14|185.64999999999998|                   10|\n",
      "|2020-01-01 00:00:00|  59|              50.9|                   3|              null|                 null|\n",
      "|2020-01-01 00:00:00|  69|              11.8|                   1|            106.52|                    4|\n",
      "|2020-01-01 00:00:00|  71|              23.8|                   1|              null|                 null|\n",
      "|2020-01-01 00:00:00|  72|             67.53|                   2|              null|                 null|\n",
      "|2020-01-01 00:00:00|  75|278.14000000000004|                  26| 958.3500000000004|                   69|\n",
      "|2020-01-01 00:00:00|  78|             34.46|                   2|              null|                 null|\n",
      "|2020-01-01 00:00:00|  82| 305.1200000000001|                  28|              29.8|                    1|\n",
      "|2020-01-01 00:00:00|  85|             64.76|                   4|            102.56|                    3|\n",
      "|2020-01-01 00:00:00|  87|              null|                null|2456.6699999999987|                  112|\n",
      "|2020-01-01 00:00:00|  93|              null|                null|210.28000000000003|                    3|\n",
      "|2020-01-01 00:00:00| 107|              null|                null| 6441.030000000006|                  380|\n",
      "|2020-01-01 00:00:00| 113|              null|                null| 3984.319999999998|                  220|\n",
      "|2020-01-01 00:00:00| 116|            328.76|                  18| 561.5100000000001|                   34|\n",
      "+-------------------+----+------------------+--------------------+------------------+---------------------+\n",
      "only showing top 20 rows\n",
      "\n"
     ]
    }
   ],
   "source": [
    "df_join.show()"
   ]
  },
  {
   "cell_type": "code",
   "execution_count": 15,
   "id": "10238be7",
   "metadata": {},
   "outputs": [
    {
     "name": "stderr",
     "output_type": "stream",
     "text": [
      "                                                                                \r"
     ]
    }
   ],
   "source": [
    "df_join.write.parquet('../data/report/revenue/total', mode='overwrite')"
   ]
  },
  {
   "cell_type": "code",
   "execution_count": null,
   "id": "82baba8e-41ff-4fec-96bf-1605d36a0bfa",
   "metadata": {},
   "outputs": [],
   "source": []
  },
  {
   "cell_type": "code",
   "execution_count": 18,
   "id": "c3af7169",
   "metadata": {},
   "outputs": [],
   "source": [
    "df_join = spark.read.parquet('../data/report/revenue/total')"
   ]
  },
  {
   "cell_type": "code",
   "execution_count": 19,
   "id": "bc2a6680",
   "metadata": {},
   "outputs": [
    {
     "data": {
      "text/plain": [
       "DataFrame[hour: timestamp, zone: int, green_amount: double, green_number_records: bigint, yellow_amount: double, yellow_number_records: bigint]"
      ]
     },
     "execution_count": 19,
     "metadata": {},
     "output_type": "execute_result"
    }
   ],
   "source": [
    "df_join"
   ]
  },
  {
   "cell_type": "code",
   "execution_count": 21,
   "id": "abb46398",
   "metadata": {},
   "outputs": [
    {
     "name": "stdout",
     "output_type": "stream",
     "text": [
      "+----------+-------------+--------------------+------------+\n",
      "|LocationID|      Borough|                Zone|service_zone|\n",
      "+----------+-------------+--------------------+------------+\n",
      "|         1|          EWR|      Newark Airport|         EWR|\n",
      "|         2|       Queens|         Jamaica Bay|   Boro Zone|\n",
      "|         3|        Bronx|Allerton/Pelham G...|   Boro Zone|\n",
      "|         4|    Manhattan|       Alphabet City| Yellow Zone|\n",
      "|         5|Staten Island|       Arden Heights|   Boro Zone|\n",
      "|         6|Staten Island|Arrochar/Fort Wad...|   Boro Zone|\n",
      "|         7|       Queens|             Astoria|   Boro Zone|\n",
      "|         8|       Queens|        Astoria Park|   Boro Zone|\n",
      "|         9|       Queens|          Auburndale|   Boro Zone|\n",
      "|        10|       Queens|        Baisley Park|   Boro Zone|\n",
      "|        11|     Brooklyn|          Bath Beach|   Boro Zone|\n",
      "|        12|    Manhattan|        Battery Park| Yellow Zone|\n",
      "|        13|    Manhattan|   Battery Park City| Yellow Zone|\n",
      "|        14|     Brooklyn|           Bay Ridge|   Boro Zone|\n",
      "|        15|       Queens|Bay Terrace/Fort ...|   Boro Zone|\n",
      "|        16|       Queens|             Bayside|   Boro Zone|\n",
      "|        17|     Brooklyn|             Bedford|   Boro Zone|\n",
      "|        18|        Bronx|        Bedford Park|   Boro Zone|\n",
      "|        19|       Queens|           Bellerose|   Boro Zone|\n",
      "|        20|        Bronx|             Belmont|   Boro Zone|\n",
      "+----------+-------------+--------------------+------------+\n",
      "only showing top 20 rows\n",
      "\n"
     ]
    }
   ],
   "source": [
    "df_zones = spark.read.parquet('zones/')\n",
    "df_zones.show()"
   ]
  },
  {
   "cell_type": "code",
   "execution_count": 23,
   "id": "b3cf98a5",
   "metadata": {},
   "outputs": [
    {
     "name": "stdout",
     "output_type": "stream",
     "text": [
      "+-------------------+----+------------------+--------------------+------------------+---------------------+----------+---------+--------------------+------------+\n",
      "|               hour|zone|      green_amount|green_number_records|     yellow_amount|yellow_number_records|LocationID|  Borough|                Zone|service_zone|\n",
      "+-------------------+----+------------------+--------------------+------------------+---------------------+----------+---------+--------------------+------------+\n",
      "|2020-01-01 00:00:00|  14|              null|                null|               8.8|                    1|        14| Brooklyn|           Bay Ridge|   Boro Zone|\n",
      "|2020-01-01 00:00:00|  15|              null|                null|             34.09|                    1|        15|   Queens|Bay Terrace/Fort ...|   Boro Zone|\n",
      "|2020-01-01 00:00:00|  17|195.03000000000003|                   9|220.20999999999998|                    8|        17| Brooklyn|             Bedford|   Boro Zone|\n",
      "|2020-01-01 00:00:00|  25| 531.0000000000002|                  26|            324.35|                   16|        25| Brooklyn|         Boerum Hill|   Boro Zone|\n",
      "|2020-01-01 00:00:00|  32| 68.94999999999999|                   2|              18.0|                    1|        32|    Bronx|           Bronxdale|   Boro Zone|\n",
      "|2020-01-01 00:00:00|  43|            107.52|                   6| 6539.510000000012|                  390|        43|Manhattan|        Central Park| Yellow Zone|\n",
      "|2020-01-01 00:00:00|  49|266.76000000000005|                  14|185.64999999999998|                   10|        49| Brooklyn|        Clinton Hill|   Boro Zone|\n",
      "|2020-01-01 00:00:00|  59|              50.9|                   3|              null|                 null|        59|    Bronx|        Crotona Park|   Boro Zone|\n",
      "|2020-01-01 00:00:00|  69|              11.8|                   1|            106.52|                    4|        69|    Bronx|East Concourse/Co...|   Boro Zone|\n",
      "|2020-01-01 00:00:00|  71|              23.8|                   1|              null|                 null|        71| Brooklyn|East Flatbush/Far...|   Boro Zone|\n",
      "|2020-01-01 00:00:00|  72|             67.53|                   2|              null|                 null|        72| Brooklyn|East Flatbush/Rem...|   Boro Zone|\n",
      "|2020-01-01 00:00:00|  75|278.14000000000004|                  26| 958.3500000000004|                   69|        75|Manhattan|   East Harlem South|   Boro Zone|\n",
      "|2020-01-01 00:00:00|  78|             34.46|                   2|              null|                 null|        78|    Bronx|        East Tremont|   Boro Zone|\n",
      "|2020-01-01 00:00:00|  82| 305.1200000000001|                  28|              29.8|                    1|        82|   Queens|            Elmhurst|   Boro Zone|\n",
      "|2020-01-01 00:00:00|  85|             64.76|                   4|            102.56|                    3|        85| Brooklyn|             Erasmus|   Boro Zone|\n",
      "|2020-01-01 00:00:00|  87|              null|                null|2456.6699999999987|                  112|        87|Manhattan|Financial Distric...| Yellow Zone|\n",
      "|2020-01-01 00:00:00|  93|              null|                null|210.28000000000003|                    3|        93|   Queens|Flushing Meadows-...|   Boro Zone|\n",
      "|2020-01-01 00:00:00| 107|              null|                null| 6441.030000000006|                  380|       107|Manhattan|            Gramercy| Yellow Zone|\n",
      "|2020-01-01 00:00:00| 113|              null|                null| 3984.319999999998|                  220|       113|Manhattan|Greenwich Village...| Yellow Zone|\n",
      "|2020-01-01 00:00:00| 116|            328.76|                  18| 561.5100000000001|                   34|       116|Manhattan|    Hamilton Heights|   Boro Zone|\n",
      "+-------------------+----+------------------+--------------------+------------------+---------------------+----------+---------+--------------------+------------+\n",
      "only showing top 20 rows\n",
      "\n"
     ]
    }
   ],
   "source": [
    "df_result = df_join.join(df_zones, df_join.zone == df_zones.LocationID)\n",
    "df_result.show()"
   ]
  },
  {
   "cell_type": "code",
   "execution_count": 24,
   "id": "5e0614ba",
   "metadata": {},
   "outputs": [
    {
     "name": "stderr",
     "output_type": "stream",
     "text": [
      "                                                                                \r"
     ]
    },
    {
     "name": "stdout",
     "output_type": "stream",
     "text": [
      "+-------------------+----+------------------+--------------------+------------------+---------------------+----------+---------+--------------------+------------+\n",
      "|               hour|zone|      green_amount|green_number_records|     yellow_amount|yellow_number_records|LocationID|  Borough|                Zone|service_zone|\n",
      "+-------------------+----+------------------+--------------------+------------------+---------------------+----------+---------+--------------------+------------+\n",
      "|2020-01-01 00:00:00|  14|              null|                null|               8.8|                    1|        14| Brooklyn|           Bay Ridge|   Boro Zone|\n",
      "|2020-01-01 00:00:00|  15|              null|                null|             34.09|                    1|        15|   Queens|Bay Terrace/Fort ...|   Boro Zone|\n",
      "|2020-01-01 00:00:00|  17|195.03000000000003|                   9|220.20999999999998|                    8|        17| Brooklyn|             Bedford|   Boro Zone|\n",
      "|2020-01-01 00:00:00|  25| 531.0000000000002|                  26|            324.35|                   16|        25| Brooklyn|         Boerum Hill|   Boro Zone|\n",
      "|2020-01-01 00:00:00|  32| 68.94999999999999|                   2|              18.0|                    1|        32|    Bronx|           Bronxdale|   Boro Zone|\n",
      "|2020-01-01 00:00:00|  43|            107.52|                   6| 6539.510000000012|                  390|        43|Manhattan|        Central Park| Yellow Zone|\n",
      "|2020-01-01 00:00:00|  49|266.76000000000005|                  14|185.64999999999998|                   10|        49| Brooklyn|        Clinton Hill|   Boro Zone|\n",
      "|2020-01-01 00:00:00|  59|              50.9|                   3|              null|                 null|        59|    Bronx|        Crotona Park|   Boro Zone|\n",
      "|2020-01-01 00:00:00|  69|              11.8|                   1|            106.52|                    4|        69|    Bronx|East Concourse/Co...|   Boro Zone|\n",
      "|2020-01-01 00:00:00|  71|              23.8|                   1|              null|                 null|        71| Brooklyn|East Flatbush/Far...|   Boro Zone|\n",
      "|2020-01-01 00:00:00|  72|             67.53|                   2|              null|                 null|        72| Brooklyn|East Flatbush/Rem...|   Boro Zone|\n",
      "|2020-01-01 00:00:00|  75|278.14000000000004|                  26| 958.3500000000004|                   69|        75|Manhattan|   East Harlem South|   Boro Zone|\n",
      "|2020-01-01 00:00:00|  78|             34.46|                   2|              null|                 null|        78|    Bronx|        East Tremont|   Boro Zone|\n",
      "|2020-01-01 00:00:00|  82| 305.1200000000001|                  28|              29.8|                    1|        82|   Queens|            Elmhurst|   Boro Zone|\n",
      "|2020-01-01 00:00:00|  85|             64.76|                   4|            102.56|                    3|        85| Brooklyn|             Erasmus|   Boro Zone|\n",
      "|2020-01-01 00:00:00|  87|              null|                null|2456.6699999999987|                  112|        87|Manhattan|Financial Distric...| Yellow Zone|\n",
      "|2020-01-01 00:00:00|  93|              null|                null|210.28000000000003|                    3|        93|   Queens|Flushing Meadows-...|   Boro Zone|\n",
      "|2020-01-01 00:00:00| 107|              null|                null| 6441.030000000006|                  380|       107|Manhattan|            Gramercy| Yellow Zone|\n",
      "|2020-01-01 00:00:00| 113|              null|                null| 3984.319999999998|                  220|       113|Manhattan|Greenwich Village...| Yellow Zone|\n",
      "|2020-01-01 00:00:00| 116|            328.76|                  18| 561.5100000000001|                   34|       116|Manhattan|    Hamilton Heights|   Boro Zone|\n",
      "+-------------------+----+------------------+--------------------+------------------+---------------------+----------+---------+--------------------+------------+\n",
      "only showing top 20 rows\n",
      "\n"
     ]
    }
   ],
   "source": [
    "df_result.drop('LocationID', 'zone').write.parquet('tmp/revenue-zones')\n",
    "df_result.show()"
   ]
  },
  {
   "cell_type": "code",
   "execution_count": null,
   "id": "9f5ca913",
   "metadata": {},
   "outputs": [],
   "source": []
  }
 ],
 "metadata": {
  "kernelspec": {
   "display_name": "Python 3 (ipykernel)",
   "language": "python",
   "name": "python3"
  },
  "language_info": {
   "codemirror_mode": {
    "name": "ipython",
    "version": 3
   },
   "file_extension": ".py",
   "mimetype": "text/x-python",
   "name": "python",
   "nbconvert_exporter": "python",
   "pygments_lexer": "ipython3",
   "version": "3.11.7"
  }
 },
 "nbformat": 4,
 "nbformat_minor": 5
}
