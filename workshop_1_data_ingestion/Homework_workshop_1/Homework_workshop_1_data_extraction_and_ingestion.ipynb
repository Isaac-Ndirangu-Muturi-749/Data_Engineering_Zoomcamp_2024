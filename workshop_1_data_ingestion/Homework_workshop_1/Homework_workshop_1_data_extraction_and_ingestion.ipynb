{
 "cells": [
  {
   "cell_type": "markdown",
   "metadata": {
    "id": "8M2eSaj2C0Vp"
   },
   "source": [
    "- Name: Isaac Ndirangu Muturi\n",
    "- Email: ndirangumuturi749@gmail.com"
   ]
  },
  {
   "cell_type": "markdown",
   "metadata": {
    "id": "mrTFv5nPClXh"
   },
   "source": [
    "# **Homework**: Data talks club data engineering zoomcamp Data loading workshop"
   ]
  },
  {
   "cell_type": "markdown",
   "metadata": {
    "id": "wLF4iXf-NR7t"
   },
   "source": [
    "# 1. Use a generator"
   ]
  },
  {
   "cell_type": "code",
   "execution_count": 1,
   "metadata": {
    "colab": {
     "base_uri": "https://localhost:8080/"
    },
    "id": "wLng-bDJN4jf",
    "outputId": "faad738d-02fe-4789-ba9f-856db752879a"
   },
   "outputs": [
    {
     "name": "stdout",
     "output_type": "stream",
     "text": [
      "1.0\n",
      "1.4142135623730951\n",
      "1.7320508075688772\n",
      "2.0\n",
      "2.23606797749979\n"
     ]
    }
   ],
   "source": [
    "def square_root_generator(limit):\n",
    "    n = 1\n",
    "    while n <= limit:\n",
    "        yield n ** 0.5\n",
    "        n += 1\n",
    "\n",
    "# Example usage:\n",
    "limit = 5\n",
    "generator = square_root_generator(limit)\n",
    "\n",
    "for sqrt_value in generator:\n",
    "    print(sqrt_value)\n"
   ]
  },
  {
   "cell_type": "markdown",
   "metadata": {
    "id": "-Idx0hzp-xxV"
   },
   "source": [
    "- **Question 1: What is the sum of the outputs of the generator for limit = 5?**"
   ]
  },
  {
   "cell_type": "code",
   "execution_count": 2,
   "metadata": {
    "colab": {
     "base_uri": "https://localhost:8080/"
    },
    "id": "cFEJHfVB-r0-",
    "outputId": "87459c53-849b-4288-992e-24315ac14ca1"
   },
   "outputs": [
    {
     "name": "stdout",
     "output_type": "stream",
     "text": [
      "8.382332347441762\n"
     ]
    }
   ],
   "source": [
    "limit = 5\n",
    "generator = square_root_generator(limit)\n",
    "sum = 0\n",
    "for value in generator:\n",
    "    sum += value\n",
    "print(sum)"
   ]
  },
  {
   "cell_type": "markdown",
   "metadata": {
    "id": "VkQOMvQM-1xD"
   },
   "source": [
    "- **Question 2: What is the 13th number yielded**"
   ]
  },
  {
   "cell_type": "code",
   "execution_count": 3,
   "metadata": {
    "colab": {
     "base_uri": "https://localhost:8080/"
    },
    "id": "AL16bMwg_4Xu",
    "outputId": "9cf60330-c2b5-4408-dc39-220f6797573a"
   },
   "outputs": [
    {
     "name": "stdout",
     "output_type": "stream",
     "text": [
      "3.605551275463989\n"
     ]
    }
   ],
   "source": [
    "limit = 13\n",
    "generator = square_root_generator(limit)\n",
    "for i, value in enumerate(generator):\n",
    "    if i == 12:\n",
    "        print(value)\n",
    "        break"
   ]
  },
  {
   "cell_type": "markdown",
   "metadata": {
    "id": "vjWhILzGJMpK"
   },
   "source": [
    "# 2. Append a generator to a table with existing data\n",
    "\n",
    "\n",
    "Below you have 2 generators. You will be tasked to load them to duckdb and answer some questions from the data\n",
    "\n",
    "1. Load the first generator and calculate the sum of ages of all people. Make sure to only load it once.\n",
    "2. Append the second generator to the same table as the first.\n",
    "3. **After correctly appending the data, calculate the sum of all ages of people.**\n",
    "\n",
    "\n"
   ]
  },
  {
   "cell_type": "code",
   "execution_count": 16,
   "metadata": {
    "colab": {
     "base_uri": "https://localhost:8080/"
    },
    "id": "2MoaQcdLBEk6",
    "outputId": "b5e02563-84d1-423c-a6ea-14a37c323518"
   },
   "outputs": [
    {
     "name": "stdout",
     "output_type": "stream",
     "text": [
      "{'ID': 1, 'Name': 'Person_1', 'Age': 26, 'City': 'City_A'}\n",
      "{'ID': 2, 'Name': 'Person_2', 'Age': 27, 'City': 'City_A'}\n",
      "{'ID': 3, 'Name': 'Person_3', 'Age': 28, 'City': 'City_A'}\n",
      "{'ID': 4, 'Name': 'Person_4', 'Age': 29, 'City': 'City_A'}\n",
      "{'ID': 5, 'Name': 'Person_5', 'Age': 30, 'City': 'City_A'}\n",
      "{'ID': 3, 'Name': 'Person_3', 'Age': 33, 'City': 'City_B', 'Occupation': 'Job_3'}\n",
      "{'ID': 4, 'Name': 'Person_4', 'Age': 34, 'City': 'City_B', 'Occupation': 'Job_4'}\n",
      "{'ID': 5, 'Name': 'Person_5', 'Age': 35, 'City': 'City_B', 'Occupation': 'Job_5'}\n",
      "{'ID': 6, 'Name': 'Person_6', 'Age': 36, 'City': 'City_B', 'Occupation': 'Job_6'}\n",
      "{'ID': 7, 'Name': 'Person_7', 'Age': 37, 'City': 'City_B', 'Occupation': 'Job_7'}\n",
      "{'ID': 8, 'Name': 'Person_8', 'Age': 38, 'City': 'City_B', 'Occupation': 'Job_8'}\n"
     ]
    }
   ],
   "source": [
    "def people_1():\n",
    "    for i in range(1, 6):\n",
    "        yield {\"ID\": i, \"Name\": f\"Person_{i}\", \"Age\": 25 + i, \"City\": \"City_A\"}\n",
    "\n",
    "for person in people_1():\n",
    "    print(person)\n",
    "\n",
    "\n",
    "def people_2():\n",
    "    for i in range(3, 9):\n",
    "        yield {\"ID\": i, \"Name\": f\"Person_{i}\", \"Age\": 30 + i, \"City\": \"City_B\", \"Occupation\": f\"Job_{i}\"}\n",
    "\n",
    "\n",
    "for person in people_2():\n",
    "    print(person)\n"
   ]
  },
  {
   "cell_type": "code",
   "execution_count": 10,
   "metadata": {
    "id": "t_PTa7aHCCMM"
   },
   "outputs": [],
   "source": [
    "# #Install the dependencies\n",
    "# %%capture\n",
    "# !pip install dlt[duckdb]"
   ]
  },
  {
   "cell_type": "code",
   "execution_count": 17,
   "metadata": {
    "colab": {
     "base_uri": "https://localhost:8080/",
     "height": 211
    },
    "id": "dGEKYwqiBsIi",
    "outputId": "a591c98c-e5fb-41b9-8d4f-d0d7f05e78b7"
   },
   "outputs": [
    {
     "name": "stdout",
     "output_type": "stream",
     "text": [
      "Pipeline people_pipeline load step completed in 1.77 seconds\n",
      "1 load package(s) were loaded to destination duckdb and into dataset people_data\n",
      "The duckdb destination used duckdb:////home/ndirangu749/ZOOMCAMP/Data_Engineering_Zoomcamp_2024/workshop_1_data_ingestion/Homework_workshop_1/people_pipeline.duckdb location to store data\n",
      "Load package 1707923415.4487298 is LOADED and contains no failed jobs\n",
      "Pipeline people_pipeline load step completed in 1.26 seconds\n",
      "1 load package(s) were loaded to destination duckdb and into dataset people_data\n",
      "The duckdb destination used duckdb:////home/ndirangu749/ZOOMCAMP/Data_Engineering_Zoomcamp_2024/workshop_1_data_ingestion/Homework_workshop_1/people_pipeline.duckdb location to store data\n",
      "Load package 1707923417.667702 is LOADED and contains no failed jobs\n"
     ]
    }
   ],
   "source": [
    "import dlt\n",
    "\n",
    "# Define the pipeline\n",
    "pipeline = dlt.pipeline(pipeline_name='people_pipeline',destination='duckdb', dataset_name='people_data')\n",
    "# Load data from the first generator into DuckDB\n",
    "info1 = pipeline.run(data=people_1(), table_name='people', write_disposition='replace')\n",
    "print(info1)\n",
    "\n",
    "# Append data from the second generator to the same table in DuckDB\n",
    "info2 = pipeline.run(data=people_2(), table_name='people', write_disposition='append')\n",
    "print(info2)\n"
   ]
  },
  {
   "cell_type": "code",
   "execution_count": 31,
   "metadata": {
    "scrolled": false
   },
   "outputs": [
    {
     "data": {
      "text/html": [
       "<div>\n",
       "<style scoped>\n",
       "    .dataframe tbody tr th:only-of-type {\n",
       "        vertical-align: middle;\n",
       "    }\n",
       "\n",
       "    .dataframe tbody tr th {\n",
       "        vertical-align: top;\n",
       "    }\n",
       "\n",
       "    .dataframe thead th {\n",
       "        text-align: right;\n",
       "    }\n",
       "</style>\n",
       "<table border=\"1\" class=\"dataframe\">\n",
       "  <thead>\n",
       "    <tr style=\"text-align: right;\">\n",
       "      <th></th>\n",
       "      <th>name</th>\n",
       "    </tr>\n",
       "  </thead>\n",
       "  <tbody>\n",
       "    <tr>\n",
       "      <th>0</th>\n",
       "      <td>_dlt_loads</td>\n",
       "    </tr>\n",
       "    <tr>\n",
       "      <th>1</th>\n",
       "      <td>_dlt_pipeline_state</td>\n",
       "    </tr>\n",
       "    <tr>\n",
       "      <th>2</th>\n",
       "      <td>_dlt_version</td>\n",
       "    </tr>\n",
       "    <tr>\n",
       "      <th>3</th>\n",
       "      <td>people</td>\n",
       "    </tr>\n",
       "  </tbody>\n",
       "</table>\n",
       "</div>"
      ],
      "text/plain": [
       "                  name\n",
       "0           _dlt_loads\n",
       "1  _dlt_pipeline_state\n",
       "2         _dlt_version\n",
       "3               people"
      ]
     },
     "metadata": {},
     "output_type": "display_data"
    },
    {
     "data": {
      "text/html": [
       "<div>\n",
       "<style scoped>\n",
       "    .dataframe tbody tr th:only-of-type {\n",
       "        vertical-align: middle;\n",
       "    }\n",
       "\n",
       "    .dataframe tbody tr th {\n",
       "        vertical-align: top;\n",
       "    }\n",
       "\n",
       "    .dataframe thead th {\n",
       "        text-align: right;\n",
       "    }\n",
       "</style>\n",
       "<table border=\"1\" class=\"dataframe\">\n",
       "  <thead>\n",
       "    <tr style=\"text-align: right;\">\n",
       "      <th></th>\n",
       "      <th>id</th>\n",
       "      <th>name</th>\n",
       "      <th>age</th>\n",
       "      <th>city</th>\n",
       "      <th>_dlt_load_id</th>\n",
       "      <th>_dlt_id</th>\n",
       "      <th>occupation</th>\n",
       "    </tr>\n",
       "  </thead>\n",
       "  <tbody>\n",
       "    <tr>\n",
       "      <th>0</th>\n",
       "      <td>1</td>\n",
       "      <td>Person_1</td>\n",
       "      <td>26</td>\n",
       "      <td>City_A</td>\n",
       "      <td>1707923415.4487298</td>\n",
       "      <td>1qaI4a9aWnyMmw</td>\n",
       "      <td>None</td>\n",
       "    </tr>\n",
       "    <tr>\n",
       "      <th>1</th>\n",
       "      <td>2</td>\n",
       "      <td>Person_2</td>\n",
       "      <td>27</td>\n",
       "      <td>City_A</td>\n",
       "      <td>1707923415.4487298</td>\n",
       "      <td>UPxCQzmH9ZVVfQ</td>\n",
       "      <td>None</td>\n",
       "    </tr>\n",
       "    <tr>\n",
       "      <th>2</th>\n",
       "      <td>3</td>\n",
       "      <td>Person_3</td>\n",
       "      <td>28</td>\n",
       "      <td>City_A</td>\n",
       "      <td>1707923415.4487298</td>\n",
       "      <td>KOg9EOmrIpBRxg</td>\n",
       "      <td>None</td>\n",
       "    </tr>\n",
       "    <tr>\n",
       "      <th>3</th>\n",
       "      <td>4</td>\n",
       "      <td>Person_4</td>\n",
       "      <td>29</td>\n",
       "      <td>City_A</td>\n",
       "      <td>1707923415.4487298</td>\n",
       "      <td>YxbwwkH40T/IVA</td>\n",
       "      <td>None</td>\n",
       "    </tr>\n",
       "    <tr>\n",
       "      <th>4</th>\n",
       "      <td>5</td>\n",
       "      <td>Person_5</td>\n",
       "      <td>30</td>\n",
       "      <td>City_A</td>\n",
       "      <td>1707923415.4487298</td>\n",
       "      <td>etJIP4QL0tC9+A</td>\n",
       "      <td>None</td>\n",
       "    </tr>\n",
       "    <tr>\n",
       "      <th>5</th>\n",
       "      <td>3</td>\n",
       "      <td>Person_3</td>\n",
       "      <td>33</td>\n",
       "      <td>City_B</td>\n",
       "      <td>1707923417.667702</td>\n",
       "      <td>wNOCzNDiuIU9lA</td>\n",
       "      <td>Job_3</td>\n",
       "    </tr>\n",
       "    <tr>\n",
       "      <th>6</th>\n",
       "      <td>4</td>\n",
       "      <td>Person_4</td>\n",
       "      <td>34</td>\n",
       "      <td>City_B</td>\n",
       "      <td>1707923417.667702</td>\n",
       "      <td>B4Ba01gjTeLP8A</td>\n",
       "      <td>Job_4</td>\n",
       "    </tr>\n",
       "    <tr>\n",
       "      <th>7</th>\n",
       "      <td>5</td>\n",
       "      <td>Person_5</td>\n",
       "      <td>35</td>\n",
       "      <td>City_B</td>\n",
       "      <td>1707923417.667702</td>\n",
       "      <td>ZgoKuHMvkLG65Q</td>\n",
       "      <td>Job_5</td>\n",
       "    </tr>\n",
       "    <tr>\n",
       "      <th>8</th>\n",
       "      <td>6</td>\n",
       "      <td>Person_6</td>\n",
       "      <td>36</td>\n",
       "      <td>City_B</td>\n",
       "      <td>1707923417.667702</td>\n",
       "      <td>SP4/04fPR94uvw</td>\n",
       "      <td>Job_6</td>\n",
       "    </tr>\n",
       "    <tr>\n",
       "      <th>9</th>\n",
       "      <td>7</td>\n",
       "      <td>Person_7</td>\n",
       "      <td>37</td>\n",
       "      <td>City_B</td>\n",
       "      <td>1707923417.667702</td>\n",
       "      <td>KNM5xbu5256A2Q</td>\n",
       "      <td>Job_7</td>\n",
       "    </tr>\n",
       "    <tr>\n",
       "      <th>10</th>\n",
       "      <td>8</td>\n",
       "      <td>Person_8</td>\n",
       "      <td>38</td>\n",
       "      <td>City_B</td>\n",
       "      <td>1707923417.667702</td>\n",
       "      <td>xqRCWwEwlcFxpQ</td>\n",
       "      <td>Job_8</td>\n",
       "    </tr>\n",
       "  </tbody>\n",
       "</table>\n",
       "</div>"
      ],
      "text/plain": [
       "    id      name  age    city        _dlt_load_id         _dlt_id occupation\n",
       "0    1  Person_1   26  City_A  1707923415.4487298  1qaI4a9aWnyMmw       None\n",
       "1    2  Person_2   27  City_A  1707923415.4487298  UPxCQzmH9ZVVfQ       None\n",
       "2    3  Person_3   28  City_A  1707923415.4487298  KOg9EOmrIpBRxg       None\n",
       "3    4  Person_4   29  City_A  1707923415.4487298  YxbwwkH40T/IVA       None\n",
       "4    5  Person_5   30  City_A  1707923415.4487298  etJIP4QL0tC9+A       None\n",
       "5    3  Person_3   33  City_B   1707923417.667702  wNOCzNDiuIU9lA      Job_3\n",
       "6    4  Person_4   34  City_B   1707923417.667702  B4Ba01gjTeLP8A      Job_4\n",
       "7    5  Person_5   35  City_B   1707923417.667702  ZgoKuHMvkLG65Q      Job_5\n",
       "8    6  Person_6   36  City_B   1707923417.667702  SP4/04fPR94uvw      Job_6\n",
       "9    7  Person_7   37  City_B   1707923417.667702  KNM5xbu5256A2Q      Job_7\n",
       "10   8  Person_8   38  City_B   1707923417.667702  xqRCWwEwlcFxpQ      Job_8"
      ]
     },
     "metadata": {},
     "output_type": "display_data"
    },
    {
     "data": {
      "text/html": [
       "<div>\n",
       "<style scoped>\n",
       "    .dataframe tbody tr th:only-of-type {\n",
       "        vertical-align: middle;\n",
       "    }\n",
       "\n",
       "    .dataframe tbody tr th {\n",
       "        vertical-align: top;\n",
       "    }\n",
       "\n",
       "    .dataframe thead th {\n",
       "        text-align: right;\n",
       "    }\n",
       "</style>\n",
       "<table border=\"1\" class=\"dataframe\">\n",
       "  <thead>\n",
       "    <tr style=\"text-align: right;\">\n",
       "      <th></th>\n",
       "      <th>sum(age)</th>\n",
       "    </tr>\n",
       "  </thead>\n",
       "  <tbody>\n",
       "    <tr>\n",
       "      <th>0</th>\n",
       "      <td>353.0</td>\n",
       "    </tr>\n",
       "  </tbody>\n",
       "</table>\n",
       "</div>"
      ],
      "text/plain": [
       "   sum(age)\n",
       "0     353.0"
      ]
     },
     "metadata": {},
     "output_type": "display_data"
    }
   ],
   "source": [
    "import duckdb\n",
    "\n",
    "# Connect to the database\n",
    "conn = duckdb.connect(\"people_pipeline.duckdb\")\n",
    "\n",
    "conn.sql(f\"SET search_path = 'people_data'\")\n",
    "\n",
    "# Display the available tables\n",
    "tables_info = conn.execute(\"SHOW TABLES\").fetch_df()\n",
    "display(tables_info)\n",
    "\n",
    "# Query the people table\n",
    "query = \"SELECT * FROM people_data.people\"\n",
    "people_info = conn.execute(query).fetch_df()\n",
    "display(people_info)\n",
    "\n",
    "\n",
    "quiz = \"SELECT SUM(age) FROM people\"\n",
    "sum_ages = conn.sql(quiz).df()\n",
    "display(sum_ages)"
   ]
  },
  {
   "cell_type": "markdown",
   "metadata": {
    "id": "pY4cFAWOSwN1"
   },
   "source": [
    "# 3. Merge a generator\n",
    "\n",
    "Re-use the generators from Exercise 2.\n",
    "\n",
    "A table's primary key needs to be created from the start, so load your data to a new table with primary key ID.\n",
    "\n",
    "Load your first generator first, and then load the second one with merge. Since they have overlapping IDs, some of the records from the first load should be replaced by the ones from the second load.\n",
    "\n",
    "After loading, you should have a total of 8 records, and ID 3 should have age 33.\n",
    "\n",
    "Question: **Calculate the sum of ages of all the people loaded as described above.**\n"
   ]
  },
  {
   "cell_type": "code",
   "execution_count": 33,
   "metadata": {},
   "outputs": [
    {
     "name": "stdout",
     "output_type": "stream",
     "text": [
      "Pipeline people_pipeline load step completed in 0.44 seconds\n",
      "1 load package(s) were loaded to destination duckdb and into dataset people_data\n",
      "The duckdb destination used duckdb:////home/ndirangu749/ZOOMCAMP/Data_Engineering_Zoomcamp_2024/workshop_1_data_ingestion/Homework_workshop_1/people_pipeline.duckdb location to store data\n",
      "Load package 1707925042.4385152 is LOADED and contains no failed jobs\n",
      "Pipeline people_pipeline load step completed in 1.37 seconds\n",
      "1 load package(s) were loaded to destination duckdb and into dataset people_data\n",
      "The duckdb destination used duckdb:////home/ndirangu749/ZOOMCAMP/Data_Engineering_Zoomcamp_2024/workshop_1_data_ingestion/Homework_workshop_1/people_pipeline.duckdb location to store data\n",
      "Load package 1707925043.2646096 is LOADED and contains no failed jobs\n"
     ]
    }
   ],
   "source": [
    "# Load data from the first generator into DuckDB\n",
    "info1 = pipeline.run(data=people_1(), table_name=\"people_id_merge\", write_disposition=\"replace\", primary_key='ID')\n",
    "print(info1)\n",
    "# Load the second generator to the first table with merge\n",
    "info2 = pipeline.run(data=people_2(), table_name=\"people_id_merge\", write_disposition=\"merge\", primary_key='ID')\n",
    "print(info2)"
   ]
  },
  {
   "cell_type": "code",
   "execution_count": 34,
   "metadata": {},
   "outputs": [
    {
     "data": {
      "text/html": [
       "<div>\n",
       "<style scoped>\n",
       "    .dataframe tbody tr th:only-of-type {\n",
       "        vertical-align: middle;\n",
       "    }\n",
       "\n",
       "    .dataframe tbody tr th {\n",
       "        vertical-align: top;\n",
       "    }\n",
       "\n",
       "    .dataframe thead th {\n",
       "        text-align: right;\n",
       "    }\n",
       "</style>\n",
       "<table border=\"1\" class=\"dataframe\">\n",
       "  <thead>\n",
       "    <tr style=\"text-align: right;\">\n",
       "      <th></th>\n",
       "      <th>name</th>\n",
       "    </tr>\n",
       "  </thead>\n",
       "  <tbody>\n",
       "    <tr>\n",
       "      <th>0</th>\n",
       "      <td>_dlt_loads</td>\n",
       "    </tr>\n",
       "    <tr>\n",
       "      <th>1</th>\n",
       "      <td>_dlt_pipeline_state</td>\n",
       "    </tr>\n",
       "    <tr>\n",
       "      <th>2</th>\n",
       "      <td>_dlt_version</td>\n",
       "    </tr>\n",
       "    <tr>\n",
       "      <th>3</th>\n",
       "      <td>people</td>\n",
       "    </tr>\n",
       "    <tr>\n",
       "      <th>4</th>\n",
       "      <td>people_id</td>\n",
       "    </tr>\n",
       "    <tr>\n",
       "      <th>5</th>\n",
       "      <td>people_id_merge</td>\n",
       "    </tr>\n",
       "  </tbody>\n",
       "</table>\n",
       "</div>"
      ],
      "text/plain": [
       "                  name\n",
       "0           _dlt_loads\n",
       "1  _dlt_pipeline_state\n",
       "2         _dlt_version\n",
       "3               people\n",
       "4            people_id\n",
       "5      people_id_merge"
      ]
     },
     "metadata": {},
     "output_type": "display_data"
    },
    {
     "data": {
      "text/html": [
       "<div>\n",
       "<style scoped>\n",
       "    .dataframe tbody tr th:only-of-type {\n",
       "        vertical-align: middle;\n",
       "    }\n",
       "\n",
       "    .dataframe tbody tr th {\n",
       "        vertical-align: top;\n",
       "    }\n",
       "\n",
       "    .dataframe thead th {\n",
       "        text-align: right;\n",
       "    }\n",
       "</style>\n",
       "<table border=\"1\" class=\"dataframe\">\n",
       "  <thead>\n",
       "    <tr style=\"text-align: right;\">\n",
       "      <th></th>\n",
       "      <th>id</th>\n",
       "      <th>name</th>\n",
       "      <th>age</th>\n",
       "      <th>city</th>\n",
       "      <th>_dlt_load_id</th>\n",
       "      <th>_dlt_id</th>\n",
       "      <th>occupation</th>\n",
       "    </tr>\n",
       "  </thead>\n",
       "  <tbody>\n",
       "    <tr>\n",
       "      <th>0</th>\n",
       "      <td>1</td>\n",
       "      <td>Person_1</td>\n",
       "      <td>26</td>\n",
       "      <td>City_A</td>\n",
       "      <td>1707925042.4385152</td>\n",
       "      <td>rmZIiTKUXGOkrw</td>\n",
       "      <td>None</td>\n",
       "    </tr>\n",
       "    <tr>\n",
       "      <th>1</th>\n",
       "      <td>2</td>\n",
       "      <td>Person_2</td>\n",
       "      <td>27</td>\n",
       "      <td>City_A</td>\n",
       "      <td>1707925042.4385152</td>\n",
       "      <td>msurKbqmRWnYYg</td>\n",
       "      <td>None</td>\n",
       "    </tr>\n",
       "    <tr>\n",
       "      <th>2</th>\n",
       "      <td>8</td>\n",
       "      <td>Person_8</td>\n",
       "      <td>38</td>\n",
       "      <td>City_B</td>\n",
       "      <td>1707925043.2646096</td>\n",
       "      <td>nK1LBsI3Jm43pg</td>\n",
       "      <td>Job_8</td>\n",
       "    </tr>\n",
       "    <tr>\n",
       "      <th>3</th>\n",
       "      <td>5</td>\n",
       "      <td>Person_5</td>\n",
       "      <td>35</td>\n",
       "      <td>City_B</td>\n",
       "      <td>1707925043.2646096</td>\n",
       "      <td>UGvQ/0tkh7aRPg</td>\n",
       "      <td>Job_5</td>\n",
       "    </tr>\n",
       "    <tr>\n",
       "      <th>4</th>\n",
       "      <td>4</td>\n",
       "      <td>Person_4</td>\n",
       "      <td>34</td>\n",
       "      <td>City_B</td>\n",
       "      <td>1707925043.2646096</td>\n",
       "      <td>4Ax3XhlxYHCx4w</td>\n",
       "      <td>Job_4</td>\n",
       "    </tr>\n",
       "    <tr>\n",
       "      <th>5</th>\n",
       "      <td>7</td>\n",
       "      <td>Person_7</td>\n",
       "      <td>37</td>\n",
       "      <td>City_B</td>\n",
       "      <td>1707925043.2646096</td>\n",
       "      <td>OHekt9437Sr/ow</td>\n",
       "      <td>Job_7</td>\n",
       "    </tr>\n",
       "    <tr>\n",
       "      <th>6</th>\n",
       "      <td>3</td>\n",
       "      <td>Person_3</td>\n",
       "      <td>33</td>\n",
       "      <td>City_B</td>\n",
       "      <td>1707925043.2646096</td>\n",
       "      <td>SqxdizqF6CB/og</td>\n",
       "      <td>Job_3</td>\n",
       "    </tr>\n",
       "    <tr>\n",
       "      <th>7</th>\n",
       "      <td>6</td>\n",
       "      <td>Person_6</td>\n",
       "      <td>36</td>\n",
       "      <td>City_B</td>\n",
       "      <td>1707925043.2646096</td>\n",
       "      <td>ceg9zPoXv87cMA</td>\n",
       "      <td>Job_6</td>\n",
       "    </tr>\n",
       "  </tbody>\n",
       "</table>\n",
       "</div>"
      ],
      "text/plain": [
       "   id      name  age    city        _dlt_load_id         _dlt_id occupation\n",
       "0   1  Person_1   26  City_A  1707925042.4385152  rmZIiTKUXGOkrw       None\n",
       "1   2  Person_2   27  City_A  1707925042.4385152  msurKbqmRWnYYg       None\n",
       "2   8  Person_8   38  City_B  1707925043.2646096  nK1LBsI3Jm43pg      Job_8\n",
       "3   5  Person_5   35  City_B  1707925043.2646096  UGvQ/0tkh7aRPg      Job_5\n",
       "4   4  Person_4   34  City_B  1707925043.2646096  4Ax3XhlxYHCx4w      Job_4\n",
       "5   7  Person_7   37  City_B  1707925043.2646096  OHekt9437Sr/ow      Job_7\n",
       "6   3  Person_3   33  City_B  1707925043.2646096  SqxdizqF6CB/og      Job_3\n",
       "7   6  Person_6   36  City_B  1707925043.2646096  ceg9zPoXv87cMA      Job_6"
      ]
     },
     "metadata": {},
     "output_type": "display_data"
    },
    {
     "data": {
      "text/html": [
       "<div>\n",
       "<style scoped>\n",
       "    .dataframe tbody tr th:only-of-type {\n",
       "        vertical-align: middle;\n",
       "    }\n",
       "\n",
       "    .dataframe tbody tr th {\n",
       "        vertical-align: top;\n",
       "    }\n",
       "\n",
       "    .dataframe thead th {\n",
       "        text-align: right;\n",
       "    }\n",
       "</style>\n",
       "<table border=\"1\" class=\"dataframe\">\n",
       "  <thead>\n",
       "    <tr style=\"text-align: right;\">\n",
       "      <th></th>\n",
       "      <th>sum(age)</th>\n",
       "    </tr>\n",
       "  </thead>\n",
       "  <tbody>\n",
       "    <tr>\n",
       "      <th>0</th>\n",
       "      <td>266.0</td>\n",
       "    </tr>\n",
       "  </tbody>\n",
       "</table>\n",
       "</div>"
      ],
      "text/plain": [
       "   sum(age)\n",
       "0     266.0"
      ]
     },
     "metadata": {},
     "output_type": "display_data"
    }
   ],
   "source": [
    "import duckdb\n",
    "\n",
    "# Connect to the database\n",
    "conn = duckdb.connect(\"people_pipeline.duckdb\")\n",
    "\n",
    "conn.sql(f\"SET search_path = 'people_data'\")\n",
    "\n",
    "# Display the available tables\n",
    "tables_info = conn.execute(\"SHOW TABLES\").fetch_df()\n",
    "display(tables_info)\n",
    "\n",
    "# Query the people table\n",
    "query = \"SELECT * FROM people_id_merge\"\n",
    "people_info = conn.execute(query).fetch_df()\n",
    "display(people_info)\n",
    "\n",
    "\n",
    "quiz = \"SELECT SUM(age) FROM people_id_merge\"\n",
    "sum_ages = conn.sql(quiz).df()\n",
    "display(sum_ages)"
   ]
  }
 ],
 "metadata": {
  "colab": {
   "provenance": []
  },
  "kernelspec": {
   "display_name": "Python 3 (ipykernel)",
   "language": "python",
   "name": "python3"
  },
  "language_info": {
   "codemirror_mode": {
    "name": "ipython",
    "version": 3
   },
   "file_extension": ".py",
   "mimetype": "text/x-python",
   "name": "python",
   "nbconvert_exporter": "python",
   "pygments_lexer": "ipython3",
   "version": "3.11.5"
  }
 },
 "nbformat": 4,
 "nbformat_minor": 1
}
