{
 "cells": [
  {
   "cell_type": "markdown",
   "metadata": {},
   "source": [
    "- Name: Isaac Ndirangu Muturi\n",
    "- Email: ndirangumuturi749@gmail.com"
   ]
  },
  {
   "cell_type": "markdown",
   "metadata": {},
   "source": [
    "## Week 3 Homework\n",
    "ATTENTION: At the end of the submission form, you will be required to include a link to your GitHub repository or other public code-hosting site. This repository should contain your code for solving the homework. If your solution includes code that is not in file format (such as SQL queries or shell commands), please include these directly in the README file of your repository.\n",
    "\n",
    "<b><u>Important Note:</b></u> <p> For this homework we will be using the 2022 Green Taxi Trip Record Parquet Files from the New York\n",
    "City Taxi Data found here: </br> https://www.nyc.gov/site/tlc/about/tlc-trip-record-data.page </br>\n",
    "If you are using orchestration such as Mage, Airflow or Prefect do not load the data into Big Query using the orchestrator.</br> \n",
    "Stop with loading the files into a bucket. </br></br>\n",
    "<u>NOTE:</u> You will need to use the PARQUET option files when creating an External Table</br>\n",
    "\n",
    "<b>SETUP:</b></br>\n",
    "Create an external table using the Green Taxi Trip Records Data for 2022. </br>\n",
    "Create a table in BQ using the Green Taxi Trip Records for 2022 (do not partition or cluster this table). </br>\n",
    "</p>\n"
   ]
  },
  {
   "cell_type": "code",
   "execution_count": null,
   "metadata": {
    "vscode": {
     "languageId": "plaintext"
    }
   },
   "outputs": [],
   "source": [
    "CREATE OR REPLACE EXTERNAL TABLE `direct-disk-412820.ny_taxi.green_taxi_2022`\n",
    "OPTIONS (\n",
    "  format = 'PARQUET',\n",
    "  uris = ['gs://mage_data_engineering_zoomcamp/green_taxi_data_2022/green_tripdata_2022-*.parquet']\n",
    ")\n"
   ]
  },
  {
   "cell_type": "code",
   "execution_count": null,
   "metadata": {
    "vscode": {
     "languageId": "plaintext"
    }
   },
   "outputs": [],
   "source": [
    "CREATE TABLE `direct-disk-412820.ny_taxi.green_taxi_2022_unpartitioned`\n",
    "AS\n",
    "SELECT *\n",
    "FROM `direct-disk-412820.ny_taxi.green_taxi_2022`;\n"
   ]
  },
  {
   "cell_type": "markdown",
   "metadata": {},
   "source": [
    "## Question 1:\n",
    "Question 1: What is count of records for the 2022 Green Taxi Data??\n",
    "- 840,402\n",
    "\n"
   ]
  },
  {
   "cell_type": "markdown",
   "metadata": {},
   "source": [
    "## Question 2:\n",
    "Write a query to count the distinct number of PULocationIDs for the entire dataset on both the tables.</br> \n",
    "What is the estimated amount of data that will be read when this query is executed on the External Table and the Table?\n",
    "\n",
    "- 0 MB for the External Table and 6.41MB for the Materialized Table"
   ]
  },
  {
   "cell_type": "markdown",
   "metadata": {},
   "source": [
    "## Question 3:\n",
    "How many records have a fare_amount of 0?\n",
    "- 1,622\n"
   ]
  },
  {
   "cell_type": "markdown",
   "metadata": {},
   "source": [
    "## Question 4:\n",
    "What is the best strategy to make an optimized table in Big Query if your query will always order the results by PUlocationID and filter based on lpep_pickup_datetime? (Create a new table with this strategy)\n",
    "- Partition by lpep_pickup_datetime  Cluster on PUlocationID\n"
   ]
  },
  {
   "cell_type": "markdown",
   "metadata": {},
   "source": [
    "## Question 5:\n",
    "Write a query to retrieve the distinct PULocationID between lpep_pickup_datetime\n",
    "06/01/2022 and 06/30/2022 (inclusive)</br>\n",
    "\n",
    "Use the materialized table you created earlier in your from clause and note the estimated bytes. Now change the table in the from clause to the partitioned table you created for question 4 and note the estimated bytes processed. What are these values? </br>\n",
    "\n",
    "Choose the answer which most closely matches.</br>\n",
    "\n",
    "- 10.31 MB for non-partitioned table and 10.31 MB for the partitioned tabl"
   ]
  },
  {
   "cell_type": "markdown",
   "metadata": {},
   "source": [
    "## Question 6:\n",
    "Where is the data stored in the External Table you created?\n",
    "\n",
    "- GCP Bucket\n",
    "\n"
   ]
  },
  {
   "cell_type": "markdown",
   "metadata": {},
   "source": [
    "## (Bonus: Not worth points) Question 8:\n",
    "No Points: Write a `SELECT count(*)` query FROM the materialized table you created. How many bytes does it estimate will be read? Why?\n",
    "\n",
    "0 bytes\n",
    "\n",
    "The query returned 0 bytes because when you execute a SELECT count(*) query directly on a BigQuery table, it doesn't actually read the data. Instead, BigQuery uses metadata to quickly determine the number of rows in the table without scanning the actual data. Since the query doesn't access the underlying data, the estimated size of bytes to be read is 0."
   ]
  },
  {
   "cell_type": "markdown",
   "metadata": {},
   "source": []
  },
  {
   "cell_type": "markdown",
   "metadata": {},
   "source": []
  }
 ],
 "metadata": {
  "language_info": {
   "name": "python"
  }
 },
 "nbformat": 4,
 "nbformat_minor": 2
}
